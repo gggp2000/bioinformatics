{
 "cells": [
  {
   "cell_type": "code",
   "execution_count": 7,
   "metadata": {},
   "outputs": [],
   "source": [
    "import time"
   ]
  },
  {
   "cell_type": "code",
<<<<<<< Updated upstream
   "execution_count": 22,
   "metadata": {
    "scrolled": true
   },
   "outputs": [],
   "source": [
    "with open('/Users/gaopeng/Downloads/dataset_7_6 (5).txt') as f:\n",
    "    gene = f.read().strip()"
=======
   "execution_count": 14,
   "metadata": {},
   "outputs": [],
   "source": [
    "Genome = 'TAAAGACTGCCGAGAGGCCAACACGAGTGCTAGAACGAGGGGCGTAAACGCGGGTCCGAT'"
>>>>>>> Stashed changes
   ]
  },
  {
   "cell_type": "code",
<<<<<<< Updated upstream
   "execution_count": 29,
   "metadata": {},
   "outputs": [],
   "source": [
    "def SkewCount2(Genome):\n",
    "    skew = [0 for x in range(len(Genome)+1)]\n",
    "    for i in range(len(Genome)):\n",
    "        if Genome[i] == 'C':\n",
    "            skew[i+1] = skew[i]-1\n",
    "        elif Genome[i] == 'G':\n",
    "            skew[i+1] = skew[i]+1\n",
    "        else:\n",
    "            skew[i+1] = skew[i]\n",
    "    return skew"
   ]
  },
  {
   "cell_type": "code",
   "execution_count": 23,
=======
   "execution_count": 24,
>>>>>>> Stashed changes
   "metadata": {},
   "outputs": [],
   "source": [
    "def SkewCount(Genome):\n",
    "    skew = [0]\n",
    "    for i in range(len(Genome)):\n",
    "        if Genome[i] == 'C': \n",
    "            skew.append(skew[i]-1)\n",
    "        elif Genome[i] == 'G':\n",
    "            skew.append(skew[i]+1)\n",
    "        else: \n",
    "            skew.append(skew[i])\n",
    "    return skew"
   ]
  },
  {
   "cell_type": "code",
<<<<<<< Updated upstream
   "execution_count": 24,
   "metadata": {},
   "outputs": [],
   "source": [
    "def MinimumFinding(skew):\n",
    "    i = 0\n",
    "    index = []\n",
    "    while min(skew) in skew[i:]:\n",
    "        j = skew[i:].index(min(skew))\n",
    "        i += j+1\n",
    "        index.append(i-1)\n",
    "    return index"
   ]
  },
  {
   "cell_type": "code",
   "execution_count": 30,
   "metadata": {
    "scrolled": true
   },
   "outputs": [
    {
     "data": {
      "text/plain": [
       "[31997, 31999]"
      ]
     },
     "execution_count": 30,
     "metadata": {},
     "output_type": "execute_result"
    }
   ],
   "source": [
    "MinimumFinding(SkewCount2(gene))"
=======
   "execution_count": 20,
   "metadata": {},
   "outputs": [],
   "source": [
    "def MinimumFinding(skew):\n",
    "    i = 0\n",
    "    index = []\n",
    "    while min(skew) in skew[i:]:\n",
    "        j = skew[i:].index(min(skew))\n",
    "        i += j+1\n",
    "        index.append(i-1)\n",
    "    return index"
>>>>>>> Stashed changes
   ]
  },
  {
   "cell_type": "code",
<<<<<<< Updated upstream
   "execution_count": 10,
=======
   "execution_count": 25,
>>>>>>> Stashed changes
   "metadata": {},
   "outputs": [
    {
     "data": {
      "text/plain": [
<<<<<<< Updated upstream
       "-1"
      ]
     },
     "execution_count": 10,
     "metadata": {},
     "output_type": "execute_result"
    }
   ],
   "source": [
    "min(skew)"
   ]
  },
  {
   "cell_type": "code",
   "execution_count": 11,
   "metadata": {
    "scrolled": false
   },
   "outputs": [
    {
     "data": {
      "text/plain": [
       "61"
      ]
     },
     "execution_count": 11,
     "metadata": {},
     "output_type": "execute_result"
    }
   ],
   "source": [
    "len(skew)"
   ]
  },
  {
   "cell_type": "code",
   "execution_count": 12,
   "metadata": {
    "scrolled": true
   },
   "outputs": [
    {
     "data": {
      "text/plain": [
       "11"
      ]
     },
     "execution_count": 12,
=======
       "[11, 24]"
      ]
     },
     "execution_count": 25,
>>>>>>> Stashed changes
     "metadata": {},
     "output_type": "execute_result"
    }
   ],
   "source": [
    "MinimumFinding(SkewCount(Genome))"
   ]
  },
  {
   "cell_type": "code",
   "execution_count": 22,
   "metadata": {},
   "outputs": [],
   "source": [
    "with open('/Users/gaopeng/Downloads/dataset_7_6.txt') as f:\n",
    "    Genome = f.read().strip()"
   ]
  },
  {
   "cell_type": "code",
   "execution_count": 26,
   "metadata": {},
   "outputs": [],
   "source": [
    "start = time.clock()\n",
    "skew = SkewCount(Genome)\n",
    "result = MinimumFinding(skew)\n",
    "end = time.clock()\n",
    "print(\"run time is: %f\" % (end - start))"
   ]
  },
  {
   "cell_type": "code",
   "execution_count": 29,
   "metadata": {},
   "outputs": [],
   "source": [
    "output = ''\n",
    "for i in result:\n",
    "    output += str(i)+' '"
   ]
  },
  {
   "cell_type": "code",
   "execution_count": 30,
   "metadata": {
    "scrolled": true
   },
   "outputs": [
    {
     "data": {
      "text/plain": [
       "'11 24'"
      ]
     },
     "execution_count": 30,
     "metadata": {},
     "output_type": "execute_result"
    }
   ],
   "source": [
    "output.strip()"
   ]
  }
 ],
 "metadata": {
  "kernelspec": {
   "display_name": "Python 3",
   "language": "python",
   "name": "python3"
  },
  "language_info": {
   "codemirror_mode": {
    "name": "ipython",
    "version": 3
   },
   "file_extension": ".py",
   "mimetype": "text/x-python",
   "name": "python",
   "nbconvert_exporter": "python",
   "pygments_lexer": "ipython3",
   "version": "3.6.2"
  }
 },
 "nbformat": 4,
 "nbformat_minor": 2
}
