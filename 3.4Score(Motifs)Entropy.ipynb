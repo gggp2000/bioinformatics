{
 "cells": [
  {
   "cell_type": "code",
   "execution_count": 3,
   "metadata": {
    "collapsed": true
   },
   "outputs": [],
   "source": [
    "import math\n",
    "import numpy as np"
   ]
  },
  {
   "cell_type": "code",
   "execution_count": 2,
   "metadata": {
    "collapsed": true
   },
   "outputs": [],
   "source": [
    "def Entropy(column):\n",
    "    result  = 0\n",
    "    for i in column:\n",
    "        if i == 0:\n",
    "            result += 0\n",
    "        else:\n",
    "            result += -i*math.log2(i)\n",
    "    return result"
   ]
  },
  {
   "cell_type": "code",
   "execution_count": 27,
   "metadata": {
    "collapsed": true
   },
   "outputs": [],
   "source": [
    "def Score(motifs):\n",
    "    result = 0\n",
    "    eachEntropy = []\n",
    "    for i in range(len(motifs[0])):\n",
    "        result += Entropy(motifs[:,i])\n",
    "        eachEntropy.append(Entropy(motifs[:,i]))\n",
    "    return result,eachEntropy"
   ]
  },
  {
   "cell_type": "code",
   "execution_count": 4,
   "metadata": {},
   "outputs": [],
   "source": [
    "motif = np.zeros((4,12))\n",
    "motif[0] = [0.2,0.2,0,0,0,0,0.9,0.1,0.1,0.1,0.3,0]\n",
    "motif[1] = [0.1,0.6,0,0,0,0,0,0.4,0.1,0.2,0.4,0.6]\n",
    "motif[2] = [0,0,1,1,0.9,0.9,0.1,0,0,0,0,0]\n",
    "motif[3] = [0.7,0.2,0,0,0.1,0.1,0,0.5,0.8,0.7,0.3,0.4]"
   ]
  },
  {
   "cell_type": "code",
   "execution_count": 1,
   "metadata": {},
   "outputs": [
    {
     "ename": "NameError",
     "evalue": "name 'motif' is not defined",
     "output_type": "error",
     "traceback": [
      "\u001b[0;31m---------------------------------------------------------------------------\u001b[0m",
      "\u001b[0;31mNameError\u001b[0m                                 Traceback (most recent call last)",
      "\u001b[0;32m<ipython-input-1-d402dc55da41>\u001b[0m in \u001b[0;36m<module>\u001b[0;34m()\u001b[0m\n\u001b[0;32m----> 1\u001b[0;31m \u001b[0mmotif\u001b[0m\u001b[0;34m\u001b[0m\u001b[0m\n\u001b[0m",
      "\u001b[0;31mNameError\u001b[0m: name 'motif' is not defined"
     ]
    }
   ],
   "source": [
    "motif"
   ]
  },
  {
   "cell_type": "code",
   "execution_count": 28,
   "metadata": {},
   "outputs": [
    {
     "data": {
      "text/plain": [
       "(9.9162900053569718,\n",
       " [1.1567796494470395,\n",
       "  1.3709505944546687,\n",
       "  0.0,\n",
       "  0.0,\n",
       "  0.46899559358928122,\n",
       "  0.46899559358928122,\n",
       "  0.46899559358928122,\n",
       "  1.360964047443681,\n",
       "  0.92192809488736227,\n",
       "  1.1567796494470395,\n",
       "  1.5709505944546684,\n",
       "  0.97095059445466858])"
      ]
     },
     "execution_count": 28,
     "metadata": {},
     "output_type": "execute_result"
    }
   ],
   "source": [
    "Score(motif)"
   ]
  }
 ],
 "metadata": {
  "kernelspec": {
   "display_name": "Python 3",
   "language": "python",
   "name": "python3"
  },
  "language_info": {
   "codemirror_mode": {
    "name": "ipython",
    "version": 3
   },
   "file_extension": ".py",
   "mimetype": "text/x-python",
   "name": "python",
   "nbconvert_exporter": "python",
   "pygments_lexer": "ipython3",
   "version": "3.6.2"
  }
 },
 "nbformat": 4,
 "nbformat_minor": 2
}
