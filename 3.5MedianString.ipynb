{
 "cells": [
  {
   "cell_type": "code",
   "execution_count": 1,
   "metadata": {
    "collapsed": true
   },
   "outputs": [],
   "source": [
    "import itertools"
   ]
  },
  {
   "cell_type": "code",
   "execution_count": 2,
   "metadata": {
    "collapsed": true
   },
   "outputs": [],
   "source": [
    "def Hamdist(p,q):\n",
    "    if len(p) != len(q):\n",
    "        return -1\n",
    "    k = 0\n",
    "    for i in range(len(p)):\n",
    "        if p[i] != q[i]:\n",
    "            k += 1\n",
    "    return k"
   ]
  },
  {
   "cell_type": "code",
   "execution_count": 3,
   "metadata": {
    "collapsed": true
   },
   "outputs": [],
   "source": [
    "def MinHammingDist(Pattern, Text):\n",
    "    if len(Pattern) > len(Text):\n",
    "        return false\n",
    "    Distance = []\n",
    "    for i in range(len(Text)-len(Pattern)+1):\n",
    "        Distance.append(Hamdist(Pattern, Text[i:i+len(Pattern)]))\n",
    "    return min(Distance)"
   ]
  },
  {
   "cell_type": "code",
   "execution_count": 4,
   "metadata": {
    "collapsed": true
   },
   "outputs": [],
   "source": [
    "def d(Pattern, Dna):\n",
    "    HammingDistance = 0\n",
    "    for i in range(len(Dna)):\n",
    "        HammingDistance += MinHammingDist(Pattern, Dna[i])\n",
    "    return HammingDistance"
   ]
  },
  {
   "cell_type": "code",
   "execution_count": 5,
   "metadata": {
    "collapsed": true
   },
   "outputs": [],
   "source": [
    "def MedianString(Dna, k):\n",
    "    distance = float('inf')\n",
    "    kmer = [''.join(x) for x in itertools.product('ACGT', repeat=k)]\n",
    "    for Pattern in kmer:\n",
    "        if distance > d(Pattern, Dna):\n",
    "            distance = d(Pattern, Dna)\n",
    "            Median = Pattern\n",
    "    return Median"
   ]
  },
  {
   "cell_type": "code",
   "execution_count": 83,
   "metadata": {
    "collapsed": true
   },
   "outputs": [],
   "source": [
    "#MedianString算法2\n",
    "def MedianString2(Dna, k):\n",
    "    distance = float('inf')\n",
    "    for i in range(4**k):\n",
    "        Pattern = NumberToPattern(i, k)\n",
    "        if distance > DistanceBetweenPatternAndStrings(Pattern, Dna):\n",
    "            distance = DistanceBetweenPatternAndStrings(Pattern, Dna)\n",
    "            Median = Pattern\n",
    "    return Median"
   ]
  },
  {
   "cell_type": "code",
   "execution_count": 77,
   "metadata": {
    "collapsed": true
   },
   "outputs": [],
   "source": [
    "def NumberToPattern(i, k):\n",
    "    if i > 4**k: return 'k is too small.'\n",
    "    Symbol = ['A','C','G','T']\n",
    "    if k == 1:\n",
    "        return Symbol[i]\n",
    "    else:\n",
    "        return Symbol[int(i/(4**(k-1)))] + NumberToPattern(i%(4**(k-1)), k-1)"
   ]
  },
  {
   "cell_type": "code",
   "execution_count": 82,
   "metadata": {
    "collapsed": true
   },
   "outputs": [],
   "source": [
    "def DistanceBetweenPatternAndStrings(Pattern, Dna):\n",
    "    k = len(Pattern)\n",
    "    distance = 0\n",
    "    for i in range(len(Dna)):\n",
    "        HammingDistance = float('inf')\n",
    "        for j in range(len(Dna[i])-k+1):\n",
    "            if HammingDistance > Hamdist(Pattern, Dna[i][j:j+k]):\n",
    "                HammingDistance = Hamdist(Pattern, Dna[i][j:j+k])\n",
    "        distance += HammingDistance\n",
    "    return distance"
   ]
  },
  {
   "cell_type": "code",
   "execution_count": 12,
   "metadata": {
    "collapsed": true
   },
   "outputs": [],
   "source": [
    "Dna = ['AAATTGACGCAT','GACGACCACGTT',\n",
    "       'CGTCAGCGCCTG','GCTGAGCACCGG',\n",
    "       'AGTTCGGGACAG']\n",
    "k = 3"
   ]
  },
  {
   "cell_type": "code",
   "execution_count": 84,
   "metadata": {},
   "outputs": [],
   "source": [
    "info = []\n",
    "with open('/Users/igao/Documents/bioinformatics/data/dataset_5164_1.txt') as f:\n",
    "    for line in f.readlines():\n",
    "        info.append(line)\n",
    "k = len(info[0])\n",
    "Dna = info[1].split()\n",
    "Pattern = info[0].strip()"
   ]
  },
  {
   "cell_type": "code",
   "execution_count": 50,
   "metadata": {
    "scrolled": false
   },
   "outputs": [
    {
     "data": {
      "text/plain": [
       "'TGTCAAA'"
      ]
     },
     "execution_count": 50,
     "metadata": {},
     "output_type": "execute_result"
    }
   ],
   "source": [
    "MedianString(Dna, k)"
   ]
  },
  {
   "cell_type": "code",
   "execution_count": 85,
   "metadata": {},
   "outputs": [
    {
     "data": {
      "text/plain": [
       "'TGTCAAA'"
      ]
     },
     "execution_count": 85,
     "metadata": {},
     "output_type": "execute_result"
    }
   ],
   "source": [
    "MedianString2(Dna, k)"
   ]
  },
  {
   "cell_type": "code",
   "execution_count": 11,
   "metadata": {
    "collapsed": true
   },
   "outputs": [],
   "source": [
    "Pattern = 'AAA'\n",
    "Dna = ['TTACCTTAAC','GATATCTGTC','ACGGCGTTCG','CCCTAAAGAG','CGTCAGAGGT']"
   ]
  },
  {
   "cell_type": "code",
   "execution_count": 49,
   "metadata": {
    "scrolled": false
   },
   "outputs": [
    {
     "data": {
      "text/plain": [
       "45"
      ]
     },
     "execution_count": 49,
     "metadata": {},
     "output_type": "execute_result"
    }
   ],
   "source": [
    "d(Pattern, Dna)"
   ]
  },
  {
   "cell_type": "code",
   "execution_count": 88,
   "metadata": {},
   "outputs": [
    {
     "data": {
      "text/plain": [
       "45"
      ]
     },
     "execution_count": 88,
     "metadata": {},
     "output_type": "execute_result"
    }
   ],
   "source": [
    "DistanceBetweenPatternAndStrings(Pattern, Dna)"
   ]
  },
  {
   "cell_type": "code",
   "execution_count": null,
   "metadata": {
    "collapsed": true
   },
   "outputs": [],
   "source": []
  }
 ],
 "metadata": {
  "kernelspec": {
   "display_name": "Python 3",
   "language": "python",
   "name": "python3"
  },
  "language_info": {
   "codemirror_mode": {
    "name": "ipython",
    "version": 3
   },
   "file_extension": ".py",
   "mimetype": "text/x-python",
   "name": "python",
   "nbconvert_exporter": "python",
   "pygments_lexer": "ipython3",
   "version": "3.6.2"
  }
 },
 "nbformat": 4,
 "nbformat_minor": 2
}
