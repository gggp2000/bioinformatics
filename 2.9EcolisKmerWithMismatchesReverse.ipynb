{
 "cells": [
  {
   "cell_type": "code",
   "execution_count": 1,
   "metadata": {},
   "outputs": [],
   "source": [
    "import time"
   ]
  },
  {
   "cell_type": "code",
   "execution_count": 2,
   "metadata": {},
   "outputs": [],
   "source": [
    "def MaximumFinding(skew):\n",
    "    i = 0\n",
    "    index = []\n",
    "    while max(skew) in skew[i:]:\n",
    "        j = skew[i:].index(max(skew))\n",
    "        i += j+1\n",
    "        index.append(i-1)\n",
    "    return index"
   ]
  },
  {
   "cell_type": "code",
   "execution_count": 3,
   "metadata": {},
   "outputs": [],
   "source": [
    "def Hamdist(p,q):\n",
    "    if len(p) != len(q):\n",
    "        return -1\n",
    "    k = 0\n",
    "    for i in range(len(p)):\n",
    "        if p[i] != q[i]:\n",
    "            k += 1\n",
    "    return k"
   ]
  },
  {
   "cell_type": "code",
   "execution_count": 4,
   "metadata": {},
   "outputs": [],
   "source": [
    "def ApproxPatternCount(gene,pattern,d):\n",
    "    position = []\n",
    "    k = len(pattern)\n",
    "    for i in range(len(gene)-k+1):\n",
    "        if Hamdist(gene[i:i+k],pattern) <=d:\n",
    "            position.append(i)\n",
    "    return len(position)"
   ]
  },
  {
   "cell_type": "code",
   "execution_count": 5,
   "metadata": {},
   "outputs": [],
   "source": [
    "def Neighbors(pattern,d):\n",
    "    if d == 0:\n",
    "        return pattern\n",
    "    if len(pattern) == 1:\n",
    "        return ['A','C','G','T']\n",
    "    neighborhood = []\n",
    "    suffixPattern = Neighbors(pattern[1:],d)\n",
    "    for text in suffixPattern:\n",
    "        if Hamdist(text,pattern[1:]) < d:\n",
    "            for prefix in ['A','C','G','T']:\n",
    "                neighborhood.append(prefix+text)\n",
    "        elif Hamdist(text,pattern[1:]) == d:\n",
    "            neighborhood.append(pattern[0]+text)\n",
    "    return list(set(neighborhood))"
   ]
  },
  {
   "cell_type": "code",
   "execution_count": 6,
   "metadata": {},
   "outputs": [],
   "source": [
    "def NumberToPattern(index, k):\n",
    "    symbol = ['A','C','G','T']\n",
    "    if k == 1 : \n",
    "        return symbol[index]\n",
    "    Prefix = symbol[int(index/4**(k-1))]\n",
    "    reminder = index % 4**(k-1)\n",
    "    return Prefix + NumberToPattern(reminder,k-1)"
   ]
  },
  {
   "cell_type": "code",
   "execution_count": 7,
   "metadata": {},
   "outputs": [],
   "source": [
    "def reversefrag(seq):\n",
    "    newseq = ''\n",
    "    for i in range(len(seq)):\n",
    "        if seq[i] == 'A':\n",
    "            newseq += 'T'\n",
    "        elif seq[i] == 'T':\n",
    "            newseq += 'A'\n",
    "        elif seq[i] == 'G':\n",
    "            newseq += 'C'\n",
    "        elif seq[i] == \"C\":\n",
    "            newseq += 'G'\n",
    "    return newseq[::-1]"
   ]
  },
  {
   "cell_type": "code",
   "execution_count": 11,
   "metadata": {},
   "outputs": [],
   "source": [
    "def FrequentWordsWithMismatchesReverse(Genome, k, d):\n",
    "    Neighborhood = []\n",
    "    fdict = {}\n",
    "    for i in range(len(Genome)-k+1):\n",
    "        Neighborhood += Neighbors(Genome[i:i+k], d)\n",
    "    for i in range(len(Neighborhood)):\n",
    "        if Neighborhood[i] not in fdict.keys():\n",
    "            fdict.update({Neighborhood[i]:1})\n",
    "        else:\n",
    "            fdict[Neighborhood[i]] += 1\n",
    "    keys = list(fdict.keys())\n",
    "    values = list(fdict.values())\n",
    "    reversekey = []\n",
    "    for i in range(len(keys)):  #将字典中的互补序列出现次数相加\n",
    "        if reversefrag(keys[i]) in keys:\n",
    "            if reversefrag(keys[i]) not in reversekey: #避免互补序列重复计算\n",
    "                s = values[i] + values[keys.index(reversefrag(keys[i]))]\n",
    "                values[i] = s\n",
    "                values[keys.index(reversefrag(keys[i]))] = s\n",
    "                reversekey.append(keys[i])\n",
    "    output = []\n",
    "    count = []\n",
    "    for index in MaximumFinding(values):\n",
    "        output.append(keys[index])\n",
    "        count.append(values[index])\n",
    "    return output,count"
   ]
  },
  {
   "cell_type": "code",
   "execution_count": 9,
   "metadata": {},
   "outputs": [],
   "source": [
    "with open('/Users/gaopeng/Documents/bioinformatics/data/E_coli.txt') as f:\n",
    "    Genome = f.read().strip()"
   ]
  },
  {
   "cell_type": "code",
   "execution_count": 40,
   "metadata": {},
   "outputs": [],
   "source": [
    "Genome = 'CTCTAAGTTAACTAACTCGACCGACAACGCTGTTACCTACACAAGTTCGAAACAACTGTTCTACACCTCTCGGTTAAACCGCGAAACCTGTTGTTCGGTTGTTCGGTTCGAAAAGTTCTCGCTGTTCTACGTTACAACGGTTCTACCGGTTCGGTTCTCGCGGTTCGGTTCGCGACACACACCTGTTACAAACGTTGTTAACTCGCTGTTAACTCGGTTACCGACCTACGTTCT'\n",
    "k = 6\n",
    "d = 2"
   ]
  },
  {
   "cell_type": "code",
   "execution_count": 17,
   "metadata": {},
   "outputs": [
    {
     "name": "stdout",
     "output_type": "stream",
     "text": [
      "(['AATGATCCG', 'AAGGATCCT', 'TCTGGATAA', 'AGCTGGGAT', 'GCTGGGATC', 'CTGGGATCA', 'GGATCCTGG', 'CAGAAGATC', 'AGATCTCTT', 'AAGAGATCT', 'TGTGGATAA', 'TGTGAATAA', 'GTGGATAAC', 'TGGATAACC', 'CCAGGATCC', 'AGGATCAAC', 'TGATCAACA', 'AGAACAACA', 'GATCAACAG', 'AGGATCCTT', 'CGGATCATT', 'GTTGATCCT', 'GGTTATCCA', 'GTTATCCAC', 'TTATCCACA', 'TTATTCACA', 'TGTTGTTCT', 'CTGTTGATC', 'TGATCCCAG', 'GATCCCAGC', 'ATCCCAGCT', 'TTATCCAGA', 'GATCTTCTG', 'TGTTGATCA'], [4, 4, 4, 4, 4, 4, 4, 4, 4, 4, 4, 4, 4, 4, 4, 4, 4, 4, 4, 4, 4, 4, 4, 4, 4, 4, 4, 4, 4, 4, 4, 4, 4, 4])\n",
      "run time is: 2.743344\n"
     ]
    }
   ],
   "source": [
    "start = time.clock()\n",
    "result = FrequentWordsWithMismatchesReverse(Genome[3923620:3924120], 9, 1)\n",
    "print(result)\n",
    "end = time.clock()\n",
    "print(\"run time is: %f\" % (end - start))"
   ]
  },
  {
   "cell_type": "code",
   "execution_count": 18,
   "metadata": {},
   "outputs": [
    {
     "data": {
      "text/plain": [
       "34"
      ]
     },
     "execution_count": 18,
     "metadata": {},
     "output_type": "execute_result"
    }
   ],
   "source": [
    "len(result[0])"
   ]
  },
  {
   "cell_type": "code",
   "execution_count": null,
   "metadata": {},
   "outputs": [],
   "source": []
  }
 ],
 "metadata": {
  "kernelspec": {
   "display_name": "Python 3",
   "language": "python",
   "name": "python3"
  },
  "language_info": {
   "codemirror_mode": {
    "name": "ipython",
    "version": 3
   },
   "file_extension": ".py",
   "mimetype": "text/x-python",
   "name": "python",
   "nbconvert_exporter": "python",
   "pygments_lexer": "ipython3",
   "version": "3.6.2"
  }
 },
 "nbformat": 4,
 "nbformat_minor": 2
}
