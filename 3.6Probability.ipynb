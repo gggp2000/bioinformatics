{
 "cells": [
  {
   "cell_type": "code",
   "execution_count": 2,
   "metadata": {
    "collapsed": true
   },
   "outputs": [],
   "source": [
    "import numpy as np"
   ]
  },
  {
   "cell_type": "code",
   "execution_count": 3,
   "metadata": {},
   "outputs": [],
   "source": [
    "motif = np.zeros((4,12))\n",
    "motif[0] = [0.2,0.2,0,0,0,0,0.9,0.1,0.1,0.1,0.3,0]\n",
    "motif[1] = [0.1,0.6,0,0,0,0,0,0.4,0.1,0.2,0.4,0.6]\n",
    "motif[2] = [0,0,1,1,0.9,0.9,0.1,0,0,0,0,0]\n",
    "motif[3] = [0.7,0.2,0,0,0.1,0.1,0,0.5,0.8,0.7,0.3,0.4]"
   ]
  },
  {
   "cell_type": "code",
   "execution_count": 7,
   "metadata": {
    "scrolled": true
   },
   "outputs": [
    {
     "data": {
      "text/plain": [
       "(4, 12)"
      ]
     },
     "execution_count": 7,
     "metadata": {},
     "output_type": "execute_result"
    }
   ],
   "source": [
    "np.shape(motif)"
   ]
  },
  {
   "cell_type": "code",
   "execution_count": 8,
   "metadata": {},
   "outputs": [
    {
     "data": {
      "text/plain": [
       "array([[ 0.2,  0.2,  0. ,  0. ,  0. ,  0. ,  0.9,  0.1,  0.1,  0.1,  0.3,\n",
       "         0. ],\n",
       "       [ 0.1,  0.6,  0. ,  0. ,  0. ,  0. ,  0. ,  0.4,  0.1,  0.2,  0.4,\n",
       "         0.6],\n",
       "       [ 0. ,  0. ,  1. ,  1. ,  0.9,  0.9,  0.1,  0. ,  0. ,  0. ,  0. ,\n",
       "         0. ],\n",
       "       [ 0.7,  0.2,  0. ,  0. ,  0.1,  0.1,  0. ,  0.5,  0.8,  0.7,  0.3,\n",
       "         0.4]])"
      ]
     },
     "execution_count": 8,
     "metadata": {},
     "output_type": "execute_result"
    }
   ],
   "source": [
    "motif"
   ]
  },
  {
   "cell_type": "code",
   "execution_count": 15,
   "metadata": {},
   "outputs": [
    {
     "data": {
      "text/plain": [
       "(array([], dtype=int64),)"
      ]
     },
     "execution_count": 15,
     "metadata": {},
     "output_type": "execute_result"
    }
   ],
   "source": [
    "np.where(motif[:,0] == 2)"
   ]
  },
  {
   "cell_type": "code",
   "execution_count": 18,
   "metadata": {},
   "outputs": [
    {
     "data": {
      "text/plain": [
       "0.20000000000000001"
      ]
     },
     "execution_count": 18,
     "metadata": {},
     "output_type": "execute_result"
    }
   ],
   "source": [
    "Symbol = ['A','C','G','T']\n",
    "Symbol.index('A')\n",
    "motif[:,0][0]"
   ]
  },
  {
   "cell_type": "code",
   "execution_count": 19,
   "metadata": {
    "collapsed": true
   },
   "outputs": [],
   "source": [
    "def Pr(Pattern, motif):\n",
    "    Symbol = ['A','C','G','T']\n",
    "    probability = 1\n",
    "    for i in range(len(Pattern)):\n",
    "        probability *= motif[:,i][Symbol.index(Pattern[i])]\n",
    "    return probability"
   ]
  },
  {
   "cell_type": "code",
   "execution_count": 21,
   "metadata": {},
   "outputs": [
    {
     "data": {
      "text/plain": [
       "0.020575296"
      ]
     },
     "execution_count": 21,
     "metadata": {},
     "output_type": "execute_result"
    }
   ],
   "source": [
    "Pr('TCGGGGATTTCC', motif)"
   ]
  }
 ],
 "metadata": {
  "kernelspec": {
   "display_name": "Python 3",
   "language": "python",
   "name": "python3"
  },
  "language_info": {
   "codemirror_mode": {
    "name": "ipython",
    "version": 3
   },
   "file_extension": ".py",
   "mimetype": "text/x-python",
   "name": "python",
   "nbconvert_exporter": "python",
   "pygments_lexer": "ipython3",
   "version": "3.6.2"
  }
 },
 "nbformat": 4,
 "nbformat_minor": 2
}
