{
 "cells": [
  {
   "cell_type": "code",
   "execution_count": 1,
   "metadata": {
    "collapsed": true
   },
   "outputs": [],
   "source": [
    "import numpy as np\n",
    "import time\n",
    "import math"
   ]
  },
  {
   "cell_type": "code",
   "execution_count": 2,
   "metadata": {
    "collapsed": true
   },
   "outputs": [],
   "source": [
    "def Pr(Pattern, motif):\n",
    "    Symbol = ['A','C','G','T']\n",
    "    probability = 1.0\n",
    "    for i in range(len(Pattern)):\n",
    "        probability *= float(motif[:,i][Symbol.index(Pattern[i])])\n",
    "    return probability"
   ]
  },
  {
   "cell_type": "code",
   "execution_count": 3,
   "metadata": {
    "collapsed": true
   },
   "outputs": [],
   "source": [
    "def MaximumFinding(skew):\n",
    "    i = 0\n",
    "    index = []\n",
    "    while max(skew) in skew[i:]:\n",
    "        j = skew[i:].index(max(skew))\n",
    "        i += j+1\n",
    "        index.append(i-1)\n",
    "    return index"
   ]
  },
  {
   "cell_type": "code",
   "execution_count": 4,
   "metadata": {
    "collapsed": true
   },
   "outputs": [],
   "source": [
    "def Entropy(column):\n",
    "    result  = 0\n",
    "    for i in column:\n",
    "        if i == 0:\n",
    "            result += 0\n",
    "        else:\n",
    "            result += -i*math.log2(i)\n",
    "    return result\n",
    "\n",
    "def Score(motifs):\n",
    "    result = 0\n",
    "    eachEntropy = []\n",
    "    for i in range(len(motifs[0])):\n",
    "        result += Entropy(motifs[:,i])\n",
    "        eachEntropy.append(Entropy(motifs[:,i]))\n",
    "    return result"
   ]
  },
  {
   "cell_type": "code",
   "execution_count": 5,
   "metadata": {
    "collapsed": true
   },
   "outputs": [],
   "source": [
    "def ProfileMotif(Motif):\n",
    "    row = len(Motif)\n",
    "    column = len(Motif[0])\n",
    "    matrix = []\n",
    "    for i in range(row):\n",
    "        matrix += list(Motif[i])\n",
    "    matrix = np.array(matrix).reshape(row,column)\n",
    "    profile = np.zeros((4,column))\n",
    "    for i in range(column):  #pseudocount = 1\n",
    "        profile[:,i][0] = (np.sum(matrix[:,i]=='A')+1)/(row+4)\n",
    "        profile[:,i][1] = (np.sum(matrix[:,i]=='C')+1)/(row+4)\n",
    "        profile[:,i][2] = (np.sum(matrix[:,i]=='G')+1)/(row+4)\n",
    "        profile[:,i][3] = (np.sum(matrix[:,i]=='T')+1)/(row+4)\n",
    "    return profile"
   ]
  },
  {
   "cell_type": "code",
   "execution_count": 17,
   "metadata": {},
   "outputs": [
    {
     "data": {
      "text/plain": [
       "array([[ 0.2,  0.2,  0.2],\n",
       "       [ 0.2,  0.4,  0.4],\n",
       "       [ 0.4,  0.2,  0.2],\n",
       "       [ 0.2,  0.2,  0.2]])"
      ]
     },
     "execution_count": 17,
     "metadata": {},
     "output_type": "execute_result"
    }
   ],
   "source": [
    "Motif = ['GCC']\n",
    "ProfileMotif(Motif)"
   ]
  },
  {
   "cell_type": "code",
   "execution_count": 6,
   "metadata": {
    "collapsed": true
   },
   "outputs": [],
   "source": [
    "def ProfileMostProbablekmer(Genome, k, ProfileMotif):\n",
    "    probable = []\n",
    "    Pattern = []\n",
    "    for i in range(len(Genome)-k+1):\n",
    "        probable.append(Pr(Genome[i:i+k],ProfileMotif))\n",
    "    index = MaximumFinding(probable)\n",
    "    for j in index:\n",
    "        Pattern.append(Genome[j:j+k])\n",
    "    return Pattern[0]"
   ]
  },
  {
   "cell_type": "code",
   "execution_count": 12,
   "metadata": {
    "collapsed": true
   },
   "outputs": [],
   "source": [
    "def newGreedyMotifSearch(Dna, k, t):\n",
    "    BestMotifs = []\n",
    "    for i in range(t):\n",
    "        BestMotifs.append(Dna[i][0:k])\n",
    "    for i in range(len(Dna[0])-k+1):\n",
    "        Motifs = []\n",
    "        Motifs.append(Dna[0][i:i+k])\n",
    "        for j in range(1,t):\n",
    "            ProfileMotifs = ProfileMotif(Motifs)\n",
    "            kmer = ProfileMostProbablekmer(Dna[j], k, ProfileMotifs)\n",
    "            Motifs.append(kmer)\n",
    "        if Score(ProfileMotif(Motifs)) < Score(ProfileMotif(BestMotifs)):\n",
    "            BestMotifs = Motifs\n",
    "            #print(BestMotifs)\n",
    "    return BestMotifs"
   ]
  },
  {
   "cell_type": "code",
   "execution_count": 18,
   "metadata": {
    "collapsed": true
   },
   "outputs": [],
   "source": [
    "info = []\n",
    "with open('/Users/igao/Documents/bioinformatics/data/dataset_160_9.txt') as f:\n",
    "    for line in f.readlines():\n",
    "        info.append(line.strip())\n",
    "k = int(info[0].split()[0])\n",
    "t = int(info[0].split()[1])\n",
    "Dna = info[1:]"
   ]
  },
  {
   "cell_type": "code",
   "execution_count": 13,
   "metadata": {
    "collapsed": true
   },
   "outputs": [],
   "source": [
    "k = 3\n",
    "t = 5\n",
    "Dna = ['GGCGTTCAGGCA','AAGAATCAGTCA','CAAGGAGTTCGC','CACGTCAATCAC','CAATAATATTCG']"
   ]
  },
  {
   "cell_type": "code",
   "execution_count": 19,
   "metadata": {
    "scrolled": false
   },
   "outputs": [
    {
     "name": "stdout",
     "output_type": "stream",
     "text": [
      "run: 9.045946s\n"
     ]
    }
   ],
   "source": [
    "start = time.clock()\n",
    "result = newGreedyMotifSearch(Dna, k, t)\n",
    "end = time.clock()\n",
    "print(\"run: %fs\" % (end-start))"
   ]
  },
  {
   "cell_type": "code",
   "execution_count": 16,
   "metadata": {},
   "outputs": [
    {
     "data": {
      "text/plain": [
       "['CAG', 'CAG', 'CAA', 'CAA', 'CAA']"
      ]
     },
     "execution_count": 16,
     "metadata": {},
     "output_type": "execute_result"
    }
   ],
   "source": [
    "newGreedyMotifSearch(Dna, k, t)"
   ]
  },
  {
   "cell_type": "code",
   "execution_count": 23,
   "metadata": {},
   "outputs": [
    {
     "ename": "SyntaxError",
     "evalue": "EOL while scanning string literal (<ipython-input-23-86cf16c9a82e>, line 3)",
     "output_type": "error",
     "traceback": [
      "\u001b[0;36m  File \u001b[0;32m\"<ipython-input-23-86cf16c9a82e>\"\u001b[0;36m, line \u001b[0;32m3\u001b[0m\n\u001b[0;31m    output += i+'\\'\u001b[0m\n\u001b[0m                   ^\u001b[0m\n\u001b[0;31mSyntaxError\u001b[0m\u001b[0;31m:\u001b[0m EOL while scanning string literal\n"
     ]
    }
   ],
   "source": [
    "output = ''\n",
    "for i in result:\n",
    "    output += i+'\\'"
   ]
  },
  {
   "cell_type": "code",
   "execution_count": 24,
   "metadata": {},
   "outputs": [
    {
     "name": "stdout",
     "output_type": "stream",
     "text": [
      "GCCTAGTACTCC\n",
      "GCCTCCTCGTCC\n",
      "GCCTATTTTTCC\n",
      "GCCTCCTGCTCC\n",
      "GCCTTGTTCTCC\n",
      "GCCTCTTTGTCC\n",
      "GCCTTCTTTTCC\n",
      "GCCTCGTTTGCC\n",
      "GCCTGTTTGTCC\n",
      "GCCTCGTGATCC\n",
      "GCCTCCTGTTCC\n",
      "GCCTACTCTTCC\n",
      "GCCTTTTACTCC\n",
      "GCCTATTATTCC\n",
      "GCCTCTTCATCC\n",
      "GCCTGATCCTCC\n",
      "GCCTACTGATCC\n",
      "GCCTCCTGATCC\n",
      "GCCTGATAATCC\n",
      "GCCTAGTGATCC\n",
      "GCCTTCTCATCC\n",
      "GCCTATTGTTCC\n",
      "GCCTGGTTTTCC\n",
      "GCCTTGTTGTCC\n",
      "GCCTGTTCATCC\n",
      "\n"
     ]
    }
   ],
   "source": [
    "print(output)"
   ]
  },
  {
   "cell_type": "code",
   "execution_count": null,
   "metadata": {
    "collapsed": true
   },
   "outputs": [],
   "source": []
  }
 ],
 "metadata": {
  "kernelspec": {
   "display_name": "Python 3",
   "language": "python",
   "name": "python3"
  },
  "language_info": {
   "codemirror_mode": {
    "name": "ipython",
    "version": 3
   },
   "file_extension": ".py",
   "mimetype": "text/x-python",
   "name": "python",
   "nbconvert_exporter": "python",
   "pygments_lexer": "ipython3",
   "version": "3.6.2"
  }
 },
 "nbformat": 4,
 "nbformat_minor": 2
}
