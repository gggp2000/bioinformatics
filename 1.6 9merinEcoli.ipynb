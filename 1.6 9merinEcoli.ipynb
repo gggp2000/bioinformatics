{
 "cells": [
  {
   "cell_type": "code",
   "execution_count": 1,
   "metadata": {},
   "outputs": [],
   "source": [
    "import time"
   ]
  },
  {
   "cell_type": "code",
   "execution_count": 2,
   "metadata": {},
   "outputs": [],
   "source": [
    "def PatternToNumber(Pattern):\n",
    "    if Pattern == []: return -1\n",
    "    symbol = ['A','C','G','T']\n",
    "    if len(Pattern) == 1: \n",
    "        return symbol.index(Pattern)\n",
    "    else:\n",
    "        Prefix = Pattern[:-1]\n",
    "    return symbol.index(Pattern[-1]) + PatternToNumber(Prefix)*4"
   ]
  },
  {
   "cell_type": "code",
   "execution_count": 3,
   "metadata": {},
   "outputs": [],
   "source": [
    "def NumberToPattern(index, k):\n",
    "    symbol = ['A','C','G','T']\n",
    "    if k == 1 : \n",
    "        return symbol[index]\n",
    "    Prefix = symbol[int(index/4**(k-1))]\n",
    "    reminder = index % 4**(k-1)\n",
    "    return Prefix + NumberToPattern(reminder,k-1)"
   ]
  },
  {
   "cell_type": "code",
   "execution_count": 4,
   "metadata": {},
   "outputs": [],
   "source": [
    "def BetterClumpFinding(Genome, k, t, L):\n",
    "    Frequency = [0 for x in range(4**k)]\n",
    "    Pattern = []\n",
    "    for i in range(L-k+1):\n",
    "        Frequency[PatternToNumber(Genome[i:i+k])] += 1\n",
    "    for n in range(len(Frequency)):\n",
    "        if Frequency[n] >=t:\n",
    "            Pattern.append(NumberToPattern(n, k))\n",
    "                       \n",
    "    for j in range(1,len(Genome)-L+1):\n",
    "        Frequency[PatternToNumber(Genome[j-1:j-1+k])] -=1\n",
    "        Frequency[PatternToNumber(Genome[L-k+j:L+j])] +=1\n",
    "        if Frequency[PatternToNumber(Genome[L-k+j:L+j])] >= t:\n",
    "            Pattern.append(Genome[L-k+j:L+j])\n",
    "            \n",
    "    return list(set(Pattern))"
   ]
  },
  {
   "cell_type": "code",
   "execution_count": 5,
   "metadata": {},
   "outputs": [],
   "source": [
    "info = []\n",
    "with open('/Users/gaopeng/Downloads/E_coli.txt') as f:\n",
    "    Genome = f.read().strip()"
   ]
  },
  {
   "cell_type": "code",
   "execution_count": 6,
   "metadata": {},
   "outputs": [
    {
     "data": {
      "text/plain": [
       "4639675"
      ]
     },
     "execution_count": 6,
     "metadata": {},
     "output_type": "execute_result"
    }
   ],
   "source": [
    "len(Genome)"
   ]
  },
  {
   "cell_type": "code",
   "execution_count": 7,
   "metadata": {},
   "outputs": [],
   "source": [
    "k = 9\n",
    "L = 500\n",
    "t = 3"
   ]
  },
  {
   "cell_type": "code",
   "execution_count": 15,
   "metadata": {},
   "outputs": [],
   "source": [
    "Genome = gene"
   ]
  },
  {
   "cell_type": "code",
   "execution_count": 33,
   "metadata": {},
   "outputs": [],
   "source": [
    "start = time.clock()\n",
    "result = BetterClumpFinding(Genome, k, t, L)\n",
    "end = time.clock()"
   ]
  },
  {
   "cell_type": "code",
   "execution_count": 40,
   "metadata": {},
   "outputs": [
    {
     "name": "stdout",
     "output_type": "stream",
     "text": [
      "run: 3.389691 s\n"
     ]
    }
   ],
   "source": [
    "print(\"run: %f s\" % (end-start))"
   ]
  },
  {
   "cell_type": "code",
   "execution_count": 26,
   "metadata": {},
   "outputs": [
    {
     "data": {
      "text/plain": [
       "['TGGTGGCTTCCA']"
      ]
     },
     "execution_count": 26,
     "metadata": {},
     "output_type": "execute_result"
    }
   ],
   "source": [
    "result"
   ]
  },
  {
   "cell_type": "code",
   "execution_count": 9,
   "metadata": {},
   "outputs": [],
   "source": [
    "def DictClumpFind(Genome,k,L,t):\n",
    "    fdict = {}\n",
    "    kmer = []\n",
    "    for i in range(L-k+1):\n",
    "        pnum = PatternToNumber(Genome[i:i+k])\n",
    "        if not pnum in fdict.keys():\n",
    "            fdict.update({pnum:1})\n",
    "        elif pnum in fdict.keys():\n",
    "            fdict[pnum] += 1\n",
    "    kmer += findkmer(fdict,t)  #list + list\n",
    "    \n",
    "    for j in range(1,len(Genome)-L+1):\n",
    "        pnum1 = PatternToNumber(Genome[j-1:j-1+k]) #need to -1\n",
    "        fdict[pnum1] -= 1\n",
    "        pnum2 = PatternToNumber(Genome[L-k+j:L+j])\n",
    "        if not pnum2 in fdict.keys():\n",
    "            fdict.update({pnum2:1})\n",
    "        elif pnum2 in fdict.keys():\n",
    "            fdict[pnum2] += 1\n",
    "        if fdict[pnum2] >=t:\n",
    "            kmer.append(pnum2)\n",
    "    return list(set(kmer))"
   ]
  },
  {
   "cell_type": "code",
   "execution_count": 10,
   "metadata": {},
   "outputs": [],
   "source": [
    "def findkmer(dic,t):\n",
    "    output = []\n",
    "    value_list = list(dic.values())\n",
    "    key_list = list(dic.keys())\n",
    "    for i in range(len(value_list)):\n",
    "        if value_list[i] >= t:\n",
    "            output.append(key_list[i]) \n",
    "    return output"
   ]
  },
  {
   "cell_type": "code",
   "execution_count": 11,
   "metadata": {},
   "outputs": [],
   "source": [
    "start = time.clock()\n",
    "output = DictClumpFind(Genome,k,L,t)\n",
    "end = time.clock()"
   ]
  },
  {
   "cell_type": "code",
   "execution_count": 12,
   "metadata": {
    "scrolled": true
   },
   "outputs": [
    {
     "name": "stdout",
     "output_type": "stream",
     "text": [
      "run: 100.281057 s\n"
     ]
    }
   ],
   "source": [
    "print(\"run: %f s\" % (end-start))"
   ]
  },
  {
   "cell_type": "code",
   "execution_count": 13,
   "metadata": {},
   "outputs": [
    {
     "data": {
      "text/plain": [
       "1904"
      ]
     },
     "execution_count": 13,
     "metadata": {},
     "output_type": "execute_result"
    }
   ],
   "source": [
    "len(output)"
   ]
  }
 ],
 "metadata": {
  "kernelspec": {
   "display_name": "Python 3",
   "language": "python",
   "name": "python3"
  },
  "language_info": {
   "codemirror_mode": {
    "name": "ipython",
    "version": 3
   },
   "file_extension": ".py",
   "mimetype": "text/x-python",
   "name": "python",
   "nbconvert_exporter": "python",
   "pygments_lexer": "ipython3",
   "version": "3.6.2"
  }
 },
 "nbformat": 4,
 "nbformat_minor": 2
}
