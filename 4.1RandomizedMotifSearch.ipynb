{
 "cells": [
  {
   "cell_type": "code",
   "execution_count": 1,
   "metadata": {},
   "outputs": [],
   "source": [
    "import numpy as np"
   ]
  },
  {
   "cell_type": "code",
   "execution_count": 2,
   "metadata": {},
   "outputs": [],
   "source": [
    "import random\n",
    "import time\n",
    "import math"
   ]
  },
  {
   "cell_type": "code",
   "execution_count": 300,
   "metadata": {
    "collapsed": true
   },
   "outputs": [],
   "source": [
    "Dna = ['TTACCTTAAC',\n",
    "       'GATGTCTGTC',\n",
    "       'CCGGCGTTAG',\n",
    "       'CACTAACGAG',\n",
    "       'CGTCAGAGGT']\n",
    "k = 4\n",
    "t = 5"
   ]
  },
  {
   "cell_type": "code",
   "execution_count": 3,
   "metadata": {},
   "outputs": [],
   "source": [
    "Dna = ['CGCCCCTCTCGGGGGTGTTCAGTAAACGGCCA',\n",
    "       'GGGCGAGGTATGTGTAAGTGCCAAGGTGCCAG',\n",
    "       'TAGTACCGAGACCGAAAGAAGTATACAGGCGT',\n",
    "       'TAGATCAAGTTTCAGGTGCACGTCGGTGAACC',\n",
    "       'AATCCACCAGCTCCACGTGCAATGTTGGCCTA']\n",
    "k = 8\n",
    "t = 5"
   ]
  },
  {
   "cell_type": "code",
   "execution_count": 122,
   "metadata": {
    "collapsed": true
   },
   "outputs": [],
   "source": [
    "k = 15\n",
    "t = 20\n",
    "Dna = ['CCCATTTACTAGGCTTCATGCTCTCCATGTGAGGGACGCGGTTATCTTTCATTCCGAGGCTCCGCTTCCCCTTAATTACAACCGTAGTTAGCGCAAAAAATAAATGAGCCTATCGCAACGTGCCAGCATAGCGGAACCATGGGGGGTGTTGAAAAAGGGACCATCCCTGCATGCACGTCGGCGGATTGAACGACCCATTTACTAGGCT',\n",
    "       'TCATGCTCTCCATGTGAGGGACGCGGTTATCTTTCATTCCGAGGCTCCGCTTCCCCTTAATTACAACCGTAGTTAGCGCAAAAAATAAATGAGCCTATCGCAACGTGCCAGCATAGCGGAACCATGGGGGGTGTTGAAAAAGGGACCATTTGAACCCTATGCACCCCTGCATGCACGTCGGCGGATTGAACGACCCATTTACTAGGCT',\n",
    "       'CGAAAGTAGAATTCAATCCCCAGTAGAATGCGTATTCAAAATTGATGCACACAGGCATCGAGTAGTTTCGCCCGATTGGTCGCGCTTCTCAGCATCCCAGAGAACGCCCTCCGGATCTAGTGTTTTTCCGTTCCATTTACACCTATGCACTGTATGTGACGGCCGAGCCCGTCACATGTCCTCCTTATGCACTAGTCACCGATTGGTT',\n",
    "       'AGATCTCTTCGAAGCAGTCACAACGCTATATGCCAGACTCTCAATGTAAACAGCCACTTAGATCTAGGGCGTCAAGTTCACAGTAATCTATCCCAAACTATAAAAATCACACGAGGTTAGTAATCAGAGAGTTGCAGTCTATGCACAAATTGTGCTATCTTTCGTCGTTCCCTTCCTATAGGCTACCCTCGGTCGATTCCTGCCCTTG',\n",
    "       'TACCTGGGGGCGCTCCAGGAGTAGTTGCCCACTATGCACTATTCGAGATGCGGACGGTTCTGAGAATAATGGACTGTTGGTTACAAAAAATGGTATTGAGAGGTTGCAAATCGTACACTTACGCACGAGACTTCGGTCTAAGGTTGATCGAAGGCCTGTGGAAAGGAACATGTACCTCCTGGTCTCAGCCAACAGAGACAGATATCTG',\n",
    "       'CTCTCTAGAACAAACTCGACATGAGATATGTATTAAATTCGGGTGACTTCCAAACAAATTTTGTTTACGAACATCTCCGCGTCGTAGAAGCTCTGATCATGGCCTGCGATTGCTCTGATGTGACTACCGTTGTCTCGACAACCTTGTTAGATACCACTAAATTTTCGTGAACCTGCGTACTCGTAGTTTTTTGCGCATTATGCACTGA',\n",
    "       'CCATCAAATTAGCCCAGTCGAACGAGTCCGACGGCATAGAAGTACAAAGGCATAGAACCTTATGGGTTCGGGGAGGAAGAACGATACACAGCGACCTATGCATACAGACAGTGGGATTATACAAGCGGTCCGGGTACCCTTCTCTAGCGATTGTGCTAGTCTAGAAGCCCCTTTTCGGGCCTGCCAGGGCGTTTACGGCCACAGGCAT',\n",
    "       'ATGTGAGCTTATTGTAGCAGTCGAGTTATTTGCGATAGATGCACCGGAGTCTTATGGGTACCCATTATCATCTGAAGATAGGACCTACCTTGCGAATTCAATCAATGCGGAGGGAACATCGTACTGTTCAAGTCACTAAATCCGTACCATGTTAACCCTAGACTATACCAGCTCGCCCATTATCCTACCGTTTCAATTTCGTGCCCTA',\n",
    "       'CTCCAGCAAGAAGAAGGCCTAGGGCGACGGCTCCGCTACCGCTATACTCCAAGGCTAATCAGGCACATTTTGGAGCCTATGCACTAATGCCCTTGGCGGTATACCCCAGCCCTCTCCGCGCGTTCAAGGCGCGAGAAAGACGGCGCCCAATTACGACAGGCGCCTAATCGAGACCCTAAACTTCGAGGACACCAGAAGGTGAGCGTCG',\n",
    "       'CAAAATTTTTTATTAGATTGCGACCTATCTGCGGATGAGGAGGGGCGTCCCGCACCGGGTGCACGTAACTCAGAGTCTTCCAAGTGTTACTTGTCACTATAACTATGGTACAATAACGCGTCATCACTATCTCCGGTGGATCGTTCCCATTGGGCCCACCAGGGAAGCCGTGTAACCGTTTCGGTAGACGAACGGATTCTAAACGCTG',\n",
    "       'CGAATGCGACTGGCCTTGGTCGGTGCCGTATACATTGCAATGAGTAACAGATGGGTATGATCATACCGTCTATGGACGCGGTTCCCCGCTCTGAGTTGAGCTCTAACGATAGTCGTGTCGGAGAGTCCATCCCCCCCTTGCTCCTTGACCCTAATTGCGACCTATGGTGCTGTACGCCCAGTGGTGCTATGTCTGGACGCCCGGCTCG',\n",
    "       'TCGACTTTAGAGGTCACGTTCCTAAGTGATGTTGCGAGACGTCGTGCAAGTCCCCTGCTCCTCTGTATTGTACGGCTCTCGAGACCGAAAACGTATGACCATTACATCATAACCATAATGTGATTCTCATCCGCGCCCTGGTAATGCTCTCACGTCGAGCATCCTTACCCATGGCTGCGACCTATGCTGGTCTCCCCCTACGTACCAA',\n",
    "       'AAACGTCCTAGGTACGCTTGCTTCCCACGCTCCCTCGATCGATCGCGGTAATAGGGCCCGGCCCCGCAGTCCACGAGCTGTCCCGGGCCTTGGAGGTGTGTTGTCTCCAAATGTACACATTAATCGACCTATGCACGGAACGAAAAACACTGTGAATAAGAAATCTGCTCAGCGATGTCTCCCATACCTTTGCCAGCAACCTCGCAAG',\n",
    "       'GAATGAATGGGGGGAACACTCCACCGTTGCGACCTCATCACCACGTTCAAATTCAACAGTGGGGCCAAGTTTCCTCTCGTACTCTTTAGTAAGACGTCCTGTGCAATCGGGCAATAACGCTGTCGTTGGACCGACGGCCTTCAGATGTATCATGAATATACATCGCTAGTAGGCCTTATCTATATGTTCTTTCGTGTCTAGTTCCGAG',\n",
    "       'TTATGTCACCAATCAACCCTGGTACCAGAAACTACTCGAAACAGACGGAGTGTGACGGAACGAATTGCTATTTGCGAGTCATGCACAAGAATAGCCGCGGCCAAGAACAATTCATGGTCATCCCAGCATAGCGCCTTTGCACAGTGTCTATTAGCCCAAGATAGACCCCGAGCCAATTATTGGTGCGTGCAGCACGAGCTAGATAGCG',\n",
    "       'GTATGTCATCACAAACGAACCAAGAGCGTGCCGCCAACCCGTTATCATTTAAATTCCCCCATACACGCACGTGGAATTCGTTTGGCCGCTTGTGCCCACTCCAGCGCACATGCGCATTTAGAGTAGCGAGGTAGTGCCTGTATTCTAAAATTAGCATTTGCGTTGTATGCACTGTCATTTGACTATTAGAGGCAAAGCTCCGAAGAGG',\n",
    "       'TAGGTGTTTTCGTTGCTTGCTCGAATTGCGACCCCCGCACGGACGGACGTACGATAAGTCACCCGTAGGTCGTTCCAACGGCGGCCGTTCGCACCAAAGCAACGGGTAAAGAAAAGGTAAGTCCCTCCTCCGATGTATTAATGGTATCTTAACTAAATGGTGGTTTAAGGTCGTCGTCTAGAAGTTTGATGAACCCCTCCCATAATTG',\n",
    "       'TAATACGGTGCAGATGCCCTTGCTGAAATCACACTCGTTCCTGTACAGGCACTCGGCTTGCGACCTAATAACCCCCGTATTATATGGGGTTAAGCAACCTTTTCTACAAGGGTAAATCACCGACGGCAGTATTCCCTTAGCAGGCAACCAGGAAACATCACAGCGTAAAACTCGTTAACCCCCTTAGCCTGTGATACCAGACGTCGAT',\n",
    "       'TGCGCATACAATCCGAGTTAAAGCGGTTACGCGCGAGCGAGGTCCGGACGGGCCTGGCGAGGATACCTAGCGCCATTGTTCCACGAATAACGGTTGGGGCCGCCAGTTATGAGGGTACACCTTATTTAAGCTACAGACGTCCCCCTATGGACCTATGCACCCCGGGACCCTAAGAGTTCTGCCTTGTACTTTTTGAGTCAGGAGAGCA',\n",
    "       'TGTATAATGATCAAGTGTGGAAGGCTTGACGGCGTGCGTTATGGTAGCTTGTTCTTCGCACTTGTCGCCAGAGCTAGCTAGTCCGAACAACCTAAGAGCTAACTGGAGGAGTCATCACCATCACCTCGATGTTGCGACTCGTGCACAGGCCCATAGTGATGGACATGAAATTACATCTGTGCGGCTCCACTGATAGTAGCGGCTTGGA']"
   ]
  },
  {
   "cell_type": "code",
   "execution_count": 4,
   "metadata": {},
   "outputs": [],
   "source": [
    "def initialMotifs(Dna,k):\n",
    "    Motifs = []\n",
    "    for String in Dna:\n",
    "        index = random.randint(0,(len(String)-k))\n",
    "        Motifs.append(String[index:index+k])\n",
    "    return Motifs"
   ]
  },
  {
   "cell_type": "code",
   "execution_count": 5,
   "metadata": {},
   "outputs": [],
   "source": [
    "Best = initialMotifs(Dna,k)"
   ]
  },
  {
   "cell_type": "code",
   "execution_count": 303,
   "metadata": {
    "collapsed": true
   },
   "outputs": [],
   "source": [
    "#def ProfileMotif(motifs):\n",
    "    Matrix = [[1. for i in range(len(motifs[0]))] for i in range(4)]\n",
    "    for i in range(len(motifs)):\n",
    "        for j in range(len(motifs[i])):\n",
    "            if len(motifs[0]) == 1:\n",
    "                last = i\n",
    "            else:\n",
    "                last = j\n",
    "            if motifs[i][j] == 'A':\n",
    "                Matrix[0][last] += 1\n",
    "            elif motifs[i][j] == 'C':\n",
    "                Matrix[1][last] += 1\n",
    "            elif motifs[i][j] == 'G':\n",
    "                Matrix[2][last] += 1\n",
    "            elif motifs[i][j] == 'T':\n",
    "                Matrix[3][last] += 1\n",
    "    for i in range(len(Matrix)):\n",
    "        for j in range(len(Matrix[0])):\n",
    "            Matrix[i][j] /= (len(motifs)+4)\n",
    "    return Matrix"
   ]
  },
  {
   "cell_type": "code",
   "execution_count": 7,
   "metadata": {},
   "outputs": [],
   "source": [
    "def ProfileMotif(Motif):\n",
    "    row = len(Motif)\n",
    "    column = len(Motif[0])\n",
    "    matrix = []\n",
    "    for i in range(row):\n",
    "        matrix += list(Motif[i])\n",
    "    matrix = np.array(matrix).reshape(row,column)\n",
    "    profile = np.zeros((4,column))\n",
    "    for i in range(column):\n",
    "        profile[:,i][0] = (np.sum(matrix[:,i]=='A')+1)/(row+4)\n",
    "        profile[:,i][1] = (np.sum(matrix[:,i]=='C')+1)/(row+4)\n",
    "        profile[:,i][2] = (np.sum(matrix[:,i]=='G')+1)/(row+4)\n",
    "        profile[:,i][3] = (np.sum(matrix[:,i]=='T')+1)/(row+4)\n",
    "    return profile"
   ]
  },
  {
   "cell_type": "code",
   "execution_count": 8,
   "metadata": {},
   "outputs": [],
   "source": [
    "def Pr(Pattern, ProfileMotif):\n",
    "    Symbol = ['A','C','G','T']\n",
    "    probability = 1.0\n",
    "    for i in range(len(Pattern)):\n",
    "        probability *= float(ProfileMotif[:,i][Symbol.index(Pattern[i])])\n",
    "    return probability"
   ]
  },
  {
   "cell_type": "code",
   "execution_count": 9,
   "metadata": {},
   "outputs": [],
   "source": [
    "def MaximumFinding(skew):\n",
    "    i = 0\n",
    "    index = []\n",
    "    while max(skew) in skew[i:]:\n",
    "        j = skew[i:].index(max(skew))\n",
    "        i += j+1\n",
    "        index.append(i-1)\n",
    "    return index"
   ]
  },
  {
   "cell_type": "code",
   "execution_count": 10,
   "metadata": {},
   "outputs": [],
   "source": [
    "def ProfileMostProbablekmer(Genome, k, ProfileMotif):\n",
    "    probable = []\n",
    "    Pattern = []\n",
    "    for i in range(len(Genome)-k+1):\n",
    "        probable.append(Pr(Genome[i:i+k],ProfileMotif))\n",
    "    index = MaximumFinding(probable)\n",
    "    for j in index:\n",
    "        Pattern.append(Genome[j:j+k])\n",
    "    return Pattern[0]"
   ]
  },
  {
   "cell_type": "code",
   "execution_count": 11,
   "metadata": {},
   "outputs": [],
   "source": [
    "def MotifsProfile(Profile, Dna):\n",
    "    Motifs = []\n",
    "    k = len(Profile[0])\n",
    "    for Genome in Dna:\n",
    "        Motifs.append(ProfileMostProbablekmer(Genome, k, Profile))\n",
    "    return Motifs"
   ]
  },
  {
   "cell_type": "code",
   "execution_count": 32,
   "metadata": {},
   "outputs": [],
   "source": [
    "def Entropy(column):\n",
    "    result  = 0\n",
    "    for i in column:\n",
    "        if i == 0:\n",
    "            result += 0\n",
    "        else:\n",
    "            result += -i*math.log2(i)\n",
    "    return result\n",
    "\n",
    "def Score(motifs):\n",
    "    result = 0\n",
    "    eachEntropy = []\n",
    "    for i in range(len(motifs[0])):\n",
    "        result += Entropy(motifs[:,i])\n",
    "        eachEntropy.append(Entropy(motifs[:,i]))\n",
    "    return result"
   ]
  },
  {
   "cell_type": "code",
   "execution_count": 312,
   "metadata": {
    "collapsed": true
   },
   "outputs": [],
   "source": [
    "def Score3(motifs):\n",
    "    Matrix = ProfileMotif(motifs)\n",
    "    score = (len(motifs)+1)*len(motifs[0])\n",
    "    for i in range(len(Matrix[0])):\n",
    "        score -= max(Matrix[j][i] for j in range(len(Matrix)))*(len(motifs)+4)\n",
    "    return score"
   ]
  },
  {
   "cell_type": "code",
   "execution_count": 12,
   "metadata": {},
   "outputs": [],
   "source": [
    "def Hamdist(p,q):\n",
    "    if len(p) != len(q):\n",
    "        return -1\n",
    "    k = 0\n",
    "    for i in range(len(p)):\n",
    "        if p[i] != q[i]:\n",
    "            k += 1\n",
    "    return k\n",
    "def Consensus(Motifs):\n",
    "    matrix = ProfileMotif(Motifs)\n",
    "    Symbol = ['A','C','G','T']\n",
    "    consensus = ''\n",
    "    for i in range(len(matrix[0])):\n",
    "        consensus += Symbol[matrix[:,i].argmax()]\n",
    "    return consensus\n",
    "\n",
    "def Score2(motifs):\n",
    "    result = 0\n",
    "    Pattern = Consensus(motifs)\n",
    "    for i in range(len(motifs)):\n",
    "        result += Hamdist(motifs[i],Pattern)\n",
    "    return result"
   ]
  },
  {
   "cell_type": "code",
   "execution_count": 30,
   "metadata": {},
   "outputs": [],
   "source": [
    "def RandomizedMotifSearch(Dna, k, t):\n",
    "    Motifs = initialMotifs(Dna,k)\n",
    "    BestMotifs = Motifs\n",
    "    while 1:\n",
    "        profile = ProfileMotif(Motifs)\n",
    "        Motifs = MotifsProfile(profile,Dna)\n",
    "        if Score(ProfileMotif(Motifs)) < Score(ProfileMotif(BestMotifs)):\n",
    "        #if Score2(Motifs)<Score2(BestMotifs):\n",
    "            BestMotifs = Motifs  #\n",
    "        else:\n",
    "            return BestMotifs"
   ]
  },
  {
   "cell_type": "code",
   "execution_count": 48,
   "metadata": {},
   "outputs": [],
   "source": [
    "info = []\n",
    "with open('/Users/gaopeng/Documents/bioinformatics/data/randomized_motif_search.txt') as f:\n",
    "    for line in f.readlines():\n",
    "        info.append(line.strip())\n",
    "k = int(info[1].split()[0])\n",
    "t = int(info[1].split()[1])\n",
    "Dna = info[2:22]"
   ]
  },
  {
   "cell_type": "code",
   "execution_count": 52,
   "metadata": {
    "scrolled": true
   },
   "outputs": [
    {
     "data": {
      "text/plain": [
       "'ACTTATATCTAGAGTAAAGCCCTGATTCCATTGACGCGATCCCTACCTCCATCATACTCCACAGGTTCTTCAATAGAACATGGGGAAAACTGAGGTACACCAGGTCTAACGGAGATTTCTGGCACTAACTACCCAAAATCGAGTGATTGAACTGACTTATATCTAGAGT'"
      ]
     },
     "execution_count": 52,
     "metadata": {},
     "output_type": "execute_result"
    }
   ],
   "source": [
    "Dna[0]"
   ]
  },
  {
   "cell_type": "code",
   "execution_count": 68,
   "metadata": {},
   "outputs": [],
   "source": [
    "info = []\n",
    "with open('/Users/gaopeng/Documents/bioinformatics/data/dataset_161_5.txt') as f:\n",
    "    for line in f.readlines():\n",
    "        info.append(line.strip())\n",
    "k = int(info[0].split()[0])\n",
    "t = int(info[0].split()[1])\n",
    "Dna = info[1:]"
   ]
  },
  {
   "cell_type": "code",
   "execution_count": 69,
   "metadata": {},
   "outputs": [
    {
     "name": "stdout",
     "output_type": "stream",
     "text": [
      "run: 0.095263s\n"
     ]
    }
   ],
   "source": [
    "start = time.clock()\n",
    "BestMotifs = RandomizedMotifSearch(Dna, k, t)\n",
    "end = time.clock()\n",
    "print(\"run: %fs\" % (end-start))"
   ]
  },
  {
   "cell_type": "code",
   "execution_count": 70,
   "metadata": {
    "scrolled": true
   },
   "outputs": [
    {
     "name": "stdout",
     "output_type": "stream",
     "text": [
      "run: 14.479668s\n"
     ]
    }
   ],
   "source": [
    "start = time.clock()\n",
    "Scorex = float('inf')\n",
    "for i in range(100):\n",
    "    motifs = RandomizedMotifSearch(Dna, k, t)\n",
    "    if Score2(motifs) < Scorex:\n",
    "        Scorex = Score2(motifs)\n",
    "        BestMotifs = motifs\n",
    "end = time.clock()\n",
    "print(\"run: %fs\" % (end-start))"
   ]
  },
  {
   "cell_type": "code",
   "execution_count": 71,
   "metadata": {
    "scrolled": true
   },
   "outputs": [
    {
     "name": "stdout",
     "output_type": "stream",
     "text": [
      "AAGATTATGGTTCAA\n",
      "GGGAAAATGATTCAG\n",
      "GGGCGTATGATCATG\n",
      "GGGGTAATGATTCAG\n",
      "GGGCGTATTTGTCAG\n",
      "GGGCGTATGTCACAG\n",
      "AGGCGTATGATTCTA\n",
      "GGGCGTACTCTTCAG\n",
      "GTCTGTATGATTCAG\n",
      "CCCCGTATGATTCAG\n",
      "GGGCCGGTGATTCAG\n",
      "GGGCGCGCGATTCAG\n",
      "GGGCGTGCCATTCAG\n",
      "GGGCGCCGGATTCAG\n",
      "TAGCGTATGATTCAA\n",
      "GGGCGTATGATTGCC\n",
      "GGGCGTATGAGAAAG\n",
      "GGATATATGATTCAG\n",
      "GGGCGTCACATTCAG\n",
      "GGGCCAGTGATTCAG\n",
      " 63\n"
     ]
    }
   ],
   "source": [
    "r = ''\n",
    "for i in BestMotifs:\n",
    "    r += i+'\\n'\n",
    "print(r,Score2(BestMotifs))"
   ]
  },
  {
   "cell_type": "code",
   "execution_count": 81,
   "metadata": {},
   "outputs": [
    {
     "data": {
      "text/plain": [
       "0.0001298567056762373"
      ]
     },
     "execution_count": 81,
     "metadata": {},
     "output_type": "execute_result"
    }
   ],
   "source": [
    "1-(585/586)**10 - 10*(1/586)*((585/586)**9)"
   ]
  },
  {
   "cell_type": "code",
   "execution_count": 82,
   "metadata": {},
   "outputs": [
    {
     "data": {
      "text/plain": [
       "250"
      ]
     },
     "execution_count": 82,
     "metadata": {},
     "output_type": "execute_result"
    }
   ],
   "source": [
    "info = []\n",
    "with open('/Users/gaopeng/Documents/bioinformatics/data/DosR.txt') as f:\n",
    "    for line in f.readlines():\n",
    "        info.append(line.strip())\n",
    "Dna = info\n",
    "t = len(Dna)\n",
    "len(Dna[0])"
   ]
  },
  {
   "cell_type": "code",
   "execution_count": 85,
   "metadata": {},
   "outputs": [
    {
     "name": "stdout",
     "output_type": "stream",
     "text": [
      "run: 0.055930s\n"
     ]
    },
    {
     "data": {
      "text/plain": [
       "14"
      ]
     },
     "execution_count": 85,
     "metadata": {},
     "output_type": "execute_result"
    }
   ],
   "source": [
    "k = 8\n",
    "start = time.clock()\n",
    "BestMotifs = RandomizedMotifSearch(Dna, k, t)\n",
    "end = time.clock()\n",
    "print(\"run: %fs\" % (end-start))\n",
    "Score2(BestMotifs)"
   ]
  },
  {
   "cell_type": "code",
   "execution_count": 92,
   "metadata": {
    "scrolled": true
   },
   "outputs": [
    {
     "name": "stdout",
     "output_type": "stream",
     "text": [
      "run: 5.253450s\n",
      "12\n",
      "CCGACGGG\n"
     ]
    }
   ],
   "source": [
    "start = time.clock()\n",
    "k = 8\n",
    "Scorex = float('inf')\n",
    "for i in range(100):\n",
    "    motifs = RandomizedMotifSearch(Dna, k, t)\n",
    "    if Score2(motifs) < Scorex:\n",
    "        Scorex = Score2(motifs)\n",
    "        BestMotifs = motifs\n",
    "end = time.clock()\n",
    "print(\"run: %fs\" % (end-start))\n",
    "print(Score2(BestMotifs))\n",
    "print(Consensus(BestMotifs))"
   ]
  },
  {
   "cell_type": "code",
   "execution_count": 89,
   "metadata": {},
   "outputs": [
    {
     "name": "stdout",
     "output_type": "stream",
     "text": [
      "run: 5.499546s\n",
      "16\n",
      "CCGACGGGC\n"
     ]
    }
   ],
   "source": [
    "start = time.clock()\n",
    "k = 9\n",
    "Scorex = float('inf')\n",
    "for i in range(100):\n",
    "    motifs = RandomizedMotifSearch(Dna, k, t)\n",
    "    if Score2(motifs) < Scorex:\n",
    "        Scorex = Score2(motifs)\n",
    "        BestMotifs = motifs\n",
    "end = time.clock()\n",
    "print(\"run: %fs\" % (end-start))\n",
    "print(Score2(BestMotifs))\n",
    "print(Consensus(BestMotifs))"
   ]
  },
  {
   "cell_type": "code",
   "execution_count": 96,
   "metadata": {},
   "outputs": [
    {
     "name": "stdout",
     "output_type": "stream",
     "text": [
      "run: 5.620974s\n",
      "20\n",
      "ACTTCCGGCC\n"
     ]
    }
   ],
   "source": [
    "start = time.clock()\n",
    "k = 10\n",
    "Scorex = float('inf')\n",
    "for i in range(100):\n",
    "    motifs = RandomizedMotifSearch(Dna, k, t)\n",
    "    if Score2(motifs) < Scorex:\n",
    "        Scorex = Score2(motifs)\n",
    "        BestMotifs = motifs\n",
    "end = time.clock()\n",
    "print(\"run: %fs\" % (end-start))\n",
    "print(Score2(BestMotifs))\n",
    "print(Consensus(BestMotifs))"
   ]
  },
  {
   "cell_type": "code",
   "execution_count": 97,
   "metadata": {},
   "outputs": [
    {
     "name": "stdout",
     "output_type": "stream",
     "text": [
      "run: 6.695418s\n",
      "24\n",
      "CTATCGGCCCT\n"
     ]
    }
   ],
   "source": [
    "start = time.clock()\n",
    "k = 11\n",
    "Scorex = float('inf')\n",
    "for i in range(100):\n",
    "    motifs = RandomizedMotifSearch(Dna, k, t)\n",
    "    if Score2(motifs) < Scorex:\n",
    "        Scorex = Score2(motifs)\n",
    "        BestMotifs = motifs\n",
    "end = time.clock()\n",
    "print(\"run: %fs\" % (end-start))\n",
    "print(Score2(BestMotifs))\n",
    "print(Consensus(BestMotifs))"
   ]
  },
  {
   "cell_type": "code",
   "execution_count": 98,
   "metadata": {},
   "outputs": [
    {
     "name": "stdout",
     "output_type": "stream",
     "text": [
      "run: 6.988130s\n",
      "27\n",
      "GGACTTCCGGCC\n"
     ]
    }
   ],
   "source": [
    "start = time.clock()\n",
    "k = 12\n",
    "Scorex = float('inf')\n",
    "for i in range(100):\n",
    "    motifs = RandomizedMotifSearch(Dna, k, t)\n",
    "    if Score2(motifs) < Scorex:\n",
    "        Scorex = Score2(motifs)\n",
    "        BestMotifs = motifs\n",
    "end = time.clock()\n",
    "print(\"run: %fs\" % (end-start))\n",
    "print(Score2(BestMotifs))\n",
    "print(Consensus(BestMotifs))"
   ]
  },
  {
   "cell_type": "code",
   "execution_count": null,
   "metadata": {},
   "outputs": [],
   "source": []
  }
 ],
 "metadata": {
  "kernelspec": {
   "display_name": "Python 3",
   "language": "python",
   "name": "python3"
  },
  "language_info": {
   "codemirror_mode": {
    "name": "ipython",
    "version": 3
   },
   "file_extension": ".py",
   "mimetype": "text/x-python",
   "name": "python",
   "nbconvert_exporter": "python",
   "pygments_lexer": "ipython3",
   "version": "3.6.2"
  }
 },
 "nbformat": 4,
 "nbformat_minor": 2
}
