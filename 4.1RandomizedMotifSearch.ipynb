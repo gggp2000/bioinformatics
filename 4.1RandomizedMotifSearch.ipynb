{
 "cells": [
  {
   "cell_type": "code",
   "execution_count": 252,
   "metadata": {
    "collapsed": true
   },
   "outputs": [],
   "source": [
    "import numpy as np"
   ]
  },
  {
   "cell_type": "code",
   "execution_count": 253,
   "metadata": {
    "collapsed": true
   },
   "outputs": [],
   "source": [
    "import random\n",
    "import time\n",
    "import math"
   ]
  },
  {
   "cell_type": "code",
   "execution_count": 300,
   "metadata": {
    "collapsed": true
   },
   "outputs": [],
   "source": [
    "Dna = ['TTACCTTAAC',\n",
    "       'GATGTCTGTC',\n",
    "       'CCGGCGTTAG',\n",
    "       'CACTAACGAG',\n",
    "       'CGTCAGAGGT']\n",
    "k = 4\n",
    "t = 5"
   ]
  },
  {
   "cell_type": "code",
   "execution_count": 302,
   "metadata": {
    "collapsed": true
   },
   "outputs": [],
   "source": [
    "Dna = ['CGCCCCTCTCGGGGGTGTTCAGTAAACGGCCA',\n",
    "       'GGGCGAGGTATGTGTAAGTGCCAAGGTGCCAG',\n",
    "       'TAGTACCGAGACCGAAAGAAGTATACAGGCGT',\n",
    "       'TAGATCAAGTTTCAGGTGCACGTCGGTGAACC',\n",
    "       'AATCCACCAGCTCCACGTGCAATGTTGGCCTA']\n",
    "k = 8\n",
    "t = 5"
   ]
  },
  {
   "cell_type": "code",
   "execution_count": 122,
   "metadata": {
    "collapsed": true
   },
   "outputs": [],
   "source": [
    "k = 15\n",
    "t = 20\n",
    "Dna = ['CCCATTTACTAGGCTTCATGCTCTCCATGTGAGGGACGCGGTTATCTTTCATTCCGAGGCTCCGCTTCCCCTTAATTACAACCGTAGTTAGCGCAAAAAATAAATGAGCCTATCGCAACGTGCCAGCATAGCGGAACCATGGGGGGTGTTGAAAAAGGGACCATCCCTGCATGCACGTCGGCGGATTGAACGACCCATTTACTAGGCT',\n",
    "       'TCATGCTCTCCATGTGAGGGACGCGGTTATCTTTCATTCCGAGGCTCCGCTTCCCCTTAATTACAACCGTAGTTAGCGCAAAAAATAAATGAGCCTATCGCAACGTGCCAGCATAGCGGAACCATGGGGGGTGTTGAAAAAGGGACCATTTGAACCCTATGCACCCCTGCATGCACGTCGGCGGATTGAACGACCCATTTACTAGGCT',\n",
    "       'CGAAAGTAGAATTCAATCCCCAGTAGAATGCGTATTCAAAATTGATGCACACAGGCATCGAGTAGTTTCGCCCGATTGGTCGCGCTTCTCAGCATCCCAGAGAACGCCCTCCGGATCTAGTGTTTTTCCGTTCCATTTACACCTATGCACTGTATGTGACGGCCGAGCCCGTCACATGTCCTCCTTATGCACTAGTCACCGATTGGTT',\n",
    "       'AGATCTCTTCGAAGCAGTCACAACGCTATATGCCAGACTCTCAATGTAAACAGCCACTTAGATCTAGGGCGTCAAGTTCACAGTAATCTATCCCAAACTATAAAAATCACACGAGGTTAGTAATCAGAGAGTTGCAGTCTATGCACAAATTGTGCTATCTTTCGTCGTTCCCTTCCTATAGGCTACCCTCGGTCGATTCCTGCCCTTG',\n",
    "       'TACCTGGGGGCGCTCCAGGAGTAGTTGCCCACTATGCACTATTCGAGATGCGGACGGTTCTGAGAATAATGGACTGTTGGTTACAAAAAATGGTATTGAGAGGTTGCAAATCGTACACTTACGCACGAGACTTCGGTCTAAGGTTGATCGAAGGCCTGTGGAAAGGAACATGTACCTCCTGGTCTCAGCCAACAGAGACAGATATCTG',\n",
    "       'CTCTCTAGAACAAACTCGACATGAGATATGTATTAAATTCGGGTGACTTCCAAACAAATTTTGTTTACGAACATCTCCGCGTCGTAGAAGCTCTGATCATGGCCTGCGATTGCTCTGATGTGACTACCGTTGTCTCGACAACCTTGTTAGATACCACTAAATTTTCGTGAACCTGCGTACTCGTAGTTTTTTGCGCATTATGCACTGA',\n",
    "       'CCATCAAATTAGCCCAGTCGAACGAGTCCGACGGCATAGAAGTACAAAGGCATAGAACCTTATGGGTTCGGGGAGGAAGAACGATACACAGCGACCTATGCATACAGACAGTGGGATTATACAAGCGGTCCGGGTACCCTTCTCTAGCGATTGTGCTAGTCTAGAAGCCCCTTTTCGGGCCTGCCAGGGCGTTTACGGCCACAGGCAT',\n",
    "       'ATGTGAGCTTATTGTAGCAGTCGAGTTATTTGCGATAGATGCACCGGAGTCTTATGGGTACCCATTATCATCTGAAGATAGGACCTACCTTGCGAATTCAATCAATGCGGAGGGAACATCGTACTGTTCAAGTCACTAAATCCGTACCATGTTAACCCTAGACTATACCAGCTCGCCCATTATCCTACCGTTTCAATTTCGTGCCCTA',\n",
    "       'CTCCAGCAAGAAGAAGGCCTAGGGCGACGGCTCCGCTACCGCTATACTCCAAGGCTAATCAGGCACATTTTGGAGCCTATGCACTAATGCCCTTGGCGGTATACCCCAGCCCTCTCCGCGCGTTCAAGGCGCGAGAAAGACGGCGCCCAATTACGACAGGCGCCTAATCGAGACCCTAAACTTCGAGGACACCAGAAGGTGAGCGTCG',\n",
    "       'CAAAATTTTTTATTAGATTGCGACCTATCTGCGGATGAGGAGGGGCGTCCCGCACCGGGTGCACGTAACTCAGAGTCTTCCAAGTGTTACTTGTCACTATAACTATGGTACAATAACGCGTCATCACTATCTCCGGTGGATCGTTCCCATTGGGCCCACCAGGGAAGCCGTGTAACCGTTTCGGTAGACGAACGGATTCTAAACGCTG',\n",
    "       'CGAATGCGACTGGCCTTGGTCGGTGCCGTATACATTGCAATGAGTAACAGATGGGTATGATCATACCGTCTATGGACGCGGTTCCCCGCTCTGAGTTGAGCTCTAACGATAGTCGTGTCGGAGAGTCCATCCCCCCCTTGCTCCTTGACCCTAATTGCGACCTATGGTGCTGTACGCCCAGTGGTGCTATGTCTGGACGCCCGGCTCG',\n",
    "       'TCGACTTTAGAGGTCACGTTCCTAAGTGATGTTGCGAGACGTCGTGCAAGTCCCCTGCTCCTCTGTATTGTACGGCTCTCGAGACCGAAAACGTATGACCATTACATCATAACCATAATGTGATTCTCATCCGCGCCCTGGTAATGCTCTCACGTCGAGCATCCTTACCCATGGCTGCGACCTATGCTGGTCTCCCCCTACGTACCAA',\n",
    "       'AAACGTCCTAGGTACGCTTGCTTCCCACGCTCCCTCGATCGATCGCGGTAATAGGGCCCGGCCCCGCAGTCCACGAGCTGTCCCGGGCCTTGGAGGTGTGTTGTCTCCAAATGTACACATTAATCGACCTATGCACGGAACGAAAAACACTGTGAATAAGAAATCTGCTCAGCGATGTCTCCCATACCTTTGCCAGCAACCTCGCAAG',\n",
    "       'GAATGAATGGGGGGAACACTCCACCGTTGCGACCTCATCACCACGTTCAAATTCAACAGTGGGGCCAAGTTTCCTCTCGTACTCTTTAGTAAGACGTCCTGTGCAATCGGGCAATAACGCTGTCGTTGGACCGACGGCCTTCAGATGTATCATGAATATACATCGCTAGTAGGCCTTATCTATATGTTCTTTCGTGTCTAGTTCCGAG',\n",
    "       'TTATGTCACCAATCAACCCTGGTACCAGAAACTACTCGAAACAGACGGAGTGTGACGGAACGAATTGCTATTTGCGAGTCATGCACAAGAATAGCCGCGGCCAAGAACAATTCATGGTCATCCCAGCATAGCGCCTTTGCACAGTGTCTATTAGCCCAAGATAGACCCCGAGCCAATTATTGGTGCGTGCAGCACGAGCTAGATAGCG',\n",
    "       'GTATGTCATCACAAACGAACCAAGAGCGTGCCGCCAACCCGTTATCATTTAAATTCCCCCATACACGCACGTGGAATTCGTTTGGCCGCTTGTGCCCACTCCAGCGCACATGCGCATTTAGAGTAGCGAGGTAGTGCCTGTATTCTAAAATTAGCATTTGCGTTGTATGCACTGTCATTTGACTATTAGAGGCAAAGCTCCGAAGAGG',\n",
    "       'TAGGTGTTTTCGTTGCTTGCTCGAATTGCGACCCCCGCACGGACGGACGTACGATAAGTCACCCGTAGGTCGTTCCAACGGCGGCCGTTCGCACCAAAGCAACGGGTAAAGAAAAGGTAAGTCCCTCCTCCGATGTATTAATGGTATCTTAACTAAATGGTGGTTTAAGGTCGTCGTCTAGAAGTTTGATGAACCCCTCCCATAATTG',\n",
    "       'TAATACGGTGCAGATGCCCTTGCTGAAATCACACTCGTTCCTGTACAGGCACTCGGCTTGCGACCTAATAACCCCCGTATTATATGGGGTTAAGCAACCTTTTCTACAAGGGTAAATCACCGACGGCAGTATTCCCTTAGCAGGCAACCAGGAAACATCACAGCGTAAAACTCGTTAACCCCCTTAGCCTGTGATACCAGACGTCGAT',\n",
    "       'TGCGCATACAATCCGAGTTAAAGCGGTTACGCGCGAGCGAGGTCCGGACGGGCCTGGCGAGGATACCTAGCGCCATTGTTCCACGAATAACGGTTGGGGCCGCCAGTTATGAGGGTACACCTTATTTAAGCTACAGACGTCCCCCTATGGACCTATGCACCCCGGGACCCTAAGAGTTCTGCCTTGTACTTTTTGAGTCAGGAGAGCA',\n",
    "       'TGTATAATGATCAAGTGTGGAAGGCTTGACGGCGTGCGTTATGGTAGCTTGTTCTTCGCACTTGTCGCCAGAGCTAGCTAGTCCGAACAACCTAAGAGCTAACTGGAGGAGTCATCACCATCACCTCGATGTTGCGACTCGTGCACAGGCCCATAGTGATGGACATGAAATTACATCTGTGCGGCTCCACTGATAGTAGCGGCTTGGA']"
   ]
  },
  {
   "cell_type": "code",
   "execution_count": 255,
   "metadata": {
    "collapsed": true
   },
   "outputs": [],
   "source": [
    "def initialMotifs(Dna,k):\n",
    "    Motifs = []\n",
    "    for String in Dna:\n",
    "        index = random.randint(0,(len(String)-k))\n",
    "        Motifs.append(String[index:index+k])\n",
    "    return Motifs"
   ]
  },
  {
   "cell_type": "code",
   "execution_count": 306,
   "metadata": {
    "collapsed": true
   },
   "outputs": [],
   "source": [
    "Best = initialMotifs(Dna,k)"
   ]
  },
  {
   "cell_type": "code",
   "execution_count": 310,
   "metadata": {
    "scrolled": true
   },
   "outputs": [
    {
     "data": {
      "text/plain": [
       "(4, 8)"
      ]
     },
     "execution_count": 310,
     "metadata": {},
     "output_type": "execute_result"
    }
   ],
   "source": [
    "np.shape(ProfileMotife(Best))"
   ]
  },
  {
   "cell_type": "code",
   "execution_count": 303,
   "metadata": {
    "collapsed": true
   },
   "outputs": [],
   "source": [
    "#def ProfileMotif(motifs):\n",
    "    Matrix = [[1. for i in range(len(motifs[0]))] for i in range(4)]\n",
    "    for i in range(len(motifs)):\n",
    "        for j in range(len(motifs[i])):\n",
    "            if len(motifs[0]) == 1:\n",
    "                last = i\n",
    "            else:\n",
    "                last = j\n",
    "            if motifs[i][j] == 'A':\n",
    "                Matrix[0][last] += 1\n",
    "            elif motifs[i][j] == 'C':\n",
    "                Matrix[1][last] += 1\n",
    "            elif motifs[i][j] == 'G':\n",
    "                Matrix[2][last] += 1\n",
    "            elif motifs[i][j] == 'T':\n",
    "                Matrix[3][last] += 1\n",
    "    for i in range(len(Matrix)):\n",
    "        for j in range(len(Matrix[0])):\n",
    "            Matrix[i][j] /= (len(motifs)+4)\n",
    "    return Matrix"
   ]
  },
  {
   "cell_type": "code",
   "execution_count": 311,
   "metadata": {
    "collapsed": true
   },
   "outputs": [],
   "source": [
    "def ProfileMotif(Motif):\n",
    "    row = len(Motif)\n",
    "    column = len(Motif[0])\n",
    "    matrix = []\n",
    "    for i in range(row):\n",
    "        matrix += list(Motif[i])\n",
    "    matrix = np.array(matrix).reshape(row,column)\n",
    "    profile = np.zeros((4,column))\n",
    "    for i in range(column):\n",
    "        profile[:,i][0] = (np.sum(matrix[:,i]=='A')+1)/(row+4)\n",
    "        profile[:,i][1] = (np.sum(matrix[:,i]=='C')+1)/(row+4)\n",
    "        profile[:,i][2] = (np.sum(matrix[:,i]=='G')+1)/(row+4)\n",
    "        profile[:,i][3] = (np.sum(matrix[:,i]=='T')+1)/(row+4)\n",
    "    return profile"
   ]
  },
  {
   "cell_type": "code",
   "execution_count": 257,
   "metadata": {
    "collapsed": true
   },
   "outputs": [],
   "source": [
    "def Pr(Pattern, ProfileMotif):\n",
    "    Symbol = ['A','C','G','T']\n",
    "    probability = 1.0\n",
    "    for i in range(len(Pattern)):\n",
    "        probability *= float(ProfileMotif[:,i][Symbol.index(Pattern[i])])\n",
    "    return probability"
   ]
  },
  {
   "cell_type": "code",
   "execution_count": 258,
   "metadata": {
    "collapsed": true
   },
   "outputs": [],
   "source": [
    "def MaximumFinding(skew):\n",
    "    i = 0\n",
    "    index = []\n",
    "    while max(skew) in skew[i:]:\n",
    "        j = skew[i:].index(max(skew))\n",
    "        i += j+1\n",
    "        index.append(i-1)\n",
    "    return index"
   ]
  },
  {
   "cell_type": "code",
   "execution_count": 259,
   "metadata": {
    "collapsed": true
   },
   "outputs": [],
   "source": [
    "def ProfileMostProbablekmer(Genome, k, ProfileMotif):\n",
    "    probable = []\n",
    "    Pattern = []\n",
    "    for i in range(len(Genome)-k+1):\n",
    "        probable.append(Pr(Genome[i:i+k],ProfileMotif))\n",
    "    index = MaximumFinding(probable)\n",
    "    for j in index:\n",
    "        Pattern.append(Genome[j:j+k])\n",
    "    return Pattern[0]"
   ]
  },
  {
   "cell_type": "code",
   "execution_count": 260,
   "metadata": {
    "collapsed": true
   },
   "outputs": [],
   "source": [
    "def MotifsProfile(Profile, Dna):\n",
    "    Motifs = []\n",
    "    k = len(Profile[0])\n",
    "    for Genome in Dna:\n",
    "        Motifs.append(ProfileMostProbablekmer(Genome, k, Profile))\n",
    "    return Motifs"
   ]
  },
  {
   "cell_type": "code",
   "execution_count": 261,
   "metadata": {
    "collapsed": true
   },
   "outputs": [],
   "source": [
    "def Entropy(column):\n",
    "    result  = 0\n",
    "    for i in column:\n",
    "        if i == 0:\n",
    "            result += 0\n",
    "        else:\n",
    "            result += -i*math.log2(i)\n",
    "    return result\n",
    "\n",
    "def Score(motifs):\n",
    "    result = 0\n",
    "    eachEntropy = []\n",
    "    for i in range(len(motifs[0])):\n",
    "        result += Entropy(motifs[:,i])\n",
    "        eachEntropy.append(Entropy(motifs[:,i]))\n",
    "    return result"
   ]
  },
  {
   "cell_type": "code",
   "execution_count": 312,
   "metadata": {
    "collapsed": true
   },
   "outputs": [],
   "source": [
    "def Score3(motifs):\n",
    "    Matrix = ProfileMotif(motifs)\n",
    "    score = (len(motifs)+1)*len(motifs[0])\n",
    "    for i in range(len(Matrix[0])):\n",
    "        score -= max(Matrix[j][i] for j in range(len(Matrix)))*(len(motifs)+4)\n",
    "    return score"
   ]
  },
  {
   "cell_type": "code",
   "execution_count": 262,
   "metadata": {
    "collapsed": true
   },
   "outputs": [],
   "source": [
    "def Hamdist(p,q):\n",
    "    if len(p) != len(q):\n",
    "        return -1\n",
    "    k = 0\n",
    "    for i in range(len(p)):\n",
    "        if p[i] != q[i]:\n",
    "            k += 1\n",
    "    return k\n",
    "def Consensus(Motifs):\n",
    "    matrix = ProfileMotif(Motifs)\n",
    "    Symbol = ['A','C','G','T']\n",
    "    consensus = ''\n",
    "    for i in range(len(matrix[0])):\n",
    "        consensus += Symbol[matrix[:,i].argmax()]\n",
    "    return consensus\n",
    "\n",
    "def Score2(motifs):\n",
    "    result = 0\n",
    "    Pattern = Consensus(motifs)\n",
    "    for i in range(len(motifs)):\n",
    "        result += Hamdist(motifs[i],Pattern)\n",
    "    return result"
   ]
  },
  {
   "cell_type": "code",
   "execution_count": 319,
   "metadata": {
    "collapsed": true
   },
   "outputs": [],
   "source": [
    "def RandomizedMotifSearch(Dna, k, t):\n",
    "    Motifs = initialMotifs(Dna,k)\n",
    "    BestMotifs = Motifs\n",
    "    while 1:\n",
    "        profile = ProfileMotif(Motifs)\n",
    "        Motifs = MotifsProfile(profile,Dna)\n",
    "        #if Score(ProfileMotif(Motifs)) < Score(ProfileMotif(BestMotifs)):\n",
    "        if Score2(Motifs)<Score2(BestMotifs):\n",
    "            BestMotifs = Motifs  #\n",
    "        else:\n",
    "            return BestMotifs"
   ]
  },
  {
   "cell_type": "code",
   "execution_count": 316,
   "metadata": {},
   "outputs": [
    {
     "name": "stdout",
     "output_type": "stream",
     "text": [
      "run: 0.007189s\n"
     ]
    }
   ],
   "source": [
    "start = time.clock()\n",
    "BestMotifs = RandomizedMotifSearch(Dna, k, t)\n",
    "end = time.clock()\n",
    "print(\"run: %fs\" % (end-start))"
   ]
  },
  {
   "cell_type": "code",
   "execution_count": 324,
   "metadata": {},
   "outputs": [
    {
     "name": "stderr",
     "output_type": "stream",
     "text": [
      "/Library/Frameworks/Python.framework/Versions/3.6/lib/python3.6/site-packages/ipykernel_launcher.py:10: FutureWarning: elementwise comparison failed; returning scalar instead, but in the future will perform elementwise comparison\n",
      "  # Remove the CWD from sys.path while we load stuff.\n",
      "/Library/Frameworks/Python.framework/Versions/3.6/lib/python3.6/site-packages/ipykernel_launcher.py:11: FutureWarning: elementwise comparison failed; returning scalar instead, but in the future will perform elementwise comparison\n",
      "  # This is added back by InteractiveShellApp.init_path()\n",
      "/Library/Frameworks/Python.framework/Versions/3.6/lib/python3.6/site-packages/ipykernel_launcher.py:12: FutureWarning: elementwise comparison failed; returning scalar instead, but in the future will perform elementwise comparison\n",
      "  if sys.path[0] == '':\n",
      "/Library/Frameworks/Python.framework/Versions/3.6/lib/python3.6/site-packages/ipykernel_launcher.py:13: FutureWarning: elementwise comparison failed; returning scalar instead, but in the future will perform elementwise comparison\n",
      "  del sys.path[0]\n"
     ]
    },
    {
     "name": "stdout",
     "output_type": "stream",
     "text": [
      "run: 61.699045s\n"
     ]
    }
   ],
   "source": [
    "start = time.clock()\n",
    "BestMotifs = RandomizedMotifSearch(Dna, k, t)\n",
    "for i in range(10000):\n",
    "    motifs = RandomizedMotifSearch(Dna, k, t)\n",
    "    if Score2(ProfileMotif(motifs)) < Score2(ProfileMotif(BestMotifs)):\n",
    "        BestMotifs = motifs\n",
    "end = time.clock()\n",
    "print(\"run: %fs\" % (end-start))"
   ]
  },
  {
   "cell_type": "code",
   "execution_count": 325,
   "metadata": {
    "scrolled": false
   },
   "outputs": [
    {
     "name": "stdout",
     "output_type": "stream",
     "text": [
      "AAACGGCC\n",
      "GTATGTGT\n",
      "GTACCGAG\n",
      "TTTCAGGT\n",
      "GTTGGCCT\n",
      "\n"
     ]
    }
   ],
   "source": [
    "r = ''\n",
    "for i in BestMotifs:\n",
    "    r += i+'\\n'\n",
    "print(r)"
   ]
  },
  {
   "cell_type": "code",
   "execution_count": 327,
   "metadata": {
    "scrolled": true
   },
   "outputs": [
    {
     "data": {
      "text/plain": [
       "9.0"
      ]
     },
     "execution_count": 327,
     "metadata": {},
     "output_type": "execute_result"
    }
   ],
   "source": [
    "Score3(['TCTCGGGG','CCAAGGTG','TACAGGCG','TTCAGGTG','TCCACGTG'])"
   ]
  },
  {
   "cell_type": "code",
   "execution_count": null,
   "metadata": {
    "collapsed": true
   },
   "outputs": [],
   "source": []
  }
 ],
 "metadata": {
  "kernelspec": {
   "display_name": "Python 3",
   "language": "python",
   "name": "python3"
  },
  "language_info": {
   "codemirror_mode": {
    "name": "ipython",
    "version": 3
   },
   "file_extension": ".py",
   "mimetype": "text/x-python",
   "name": "python",
   "nbconvert_exporter": "python",
   "pygments_lexer": "ipython3",
   "version": "3.6.2"
  }
 },
 "nbformat": 4,
 "nbformat_minor": 2
}
