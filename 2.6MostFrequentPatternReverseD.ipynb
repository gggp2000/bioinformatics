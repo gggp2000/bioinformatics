{
 "cells": [
  {
   "cell_type": "code",
   "execution_count": 5,
   "metadata": {},
   "outputs": [],
   "source": [
    "import time"
   ]
  },
  {
   "cell_type": "code",
   "execution_count": 6,
   "metadata": {},
   "outputs": [],
   "source": [
    "def reversefrag(seq):\n",
    "    newseq = ''\n",
    "    for i in range(len(seq)):\n",
    "        if seq[i] == 'A':\n",
    "            newseq += 'T'\n",
    "        elif seq[i] == 'T':\n",
    "            newseq += 'A'\n",
    "        elif seq[i] == 'G':\n",
    "            newseq += 'C'\n",
    "        elif seq[i] == \"C\":\n",
    "            newseq += 'G'\n",
    "    return newseq[::-1]"
   ]
  },
  {
   "cell_type": "code",
   "execution_count": 7,
   "metadata": {},
   "outputs": [],
   "source": [
    "def MaximumFinding(skew):\n",
    "    i = 0\n",
    "    index = []\n",
    "    while max(skew) in skew[i:]:\n",
    "        j = skew[i:].index(max(skew))\n",
    "        i += j+1\n",
    "        index.append(i-1)\n",
    "    return index"
   ]
  },
  {
   "cell_type": "code",
   "execution_count": 8,
   "metadata": {},
   "outputs": [],
   "source": [
    "def Hamdist(p,q):\n",
    "    if len(p) != len(q):\n",
    "        return -1\n",
    "    k = 0\n",
    "    for i in range(len(p)):\n",
    "        if p[i] != q[i]:\n",
    "            k += 1\n",
    "    return k"
   ]
  },
  {
   "cell_type": "code",
   "execution_count": 9,
   "metadata": {},
   "outputs": [],
   "source": [
    "def ApproxPatternCount(gene,pattern,d):\n",
    "    position = []\n",
    "    k = len(pattern)\n",
    "    for i in range(len(gene)-k+1):\n",
    "        if Hamdist(gene[i:i+k],pattern) <=d:\n",
    "            position.append(i)\n",
    "    return len(position)"
   ]
  },
  {
   "cell_type": "code",
   "execution_count": 10,
   "metadata": {},
   "outputs": [],
   "source": [
    "def NumberToPattern(index, k):\n",
    "    symbol = ['A','C','G','T']\n",
    "    if k == 1 : \n",
    "        return symbol[index]\n",
    "    Prefix = symbol[int(index/4**(k-1))]\n",
    "    reminder = index % 4**(k-1)\n",
    "    return Prefix + NumberToPattern(reminder,k-1)"
   ]
  },
  {
   "cell_type": "code",
   "execution_count": 11,
   "metadata": {},
   "outputs": [],
   "source": [
    "def MostFrequentPatternReverseD(Genome, k, d):\n",
    "    frequency = [0 for x in range(4**k)]\n",
    "    for i in range(len(frequency)):\n",
    "        frequency[i] = ApproxPatternCount(Genome, NumberToPattern(i,k), d)\n",
    "        frequency[i] += ApproxPatternCount(Genome, reversefrag(NumberToPattern(i,k)), d)\n",
    "    result = MaximumFinding(frequency)\n",
    "    return [NumberToPattern(x,k) for x in result]"
   ]
  },
  {
   "cell_type": "code",
   "execution_count": 16,
   "metadata": {},
   "outputs": [],
   "source": [
    "Genome = 'TGAGCATCATCAGCAGCATCCCCCCCATAGTGCAGCCCAGCATCATAGCAGCATCCCAGAGTGCCCCCCCAGCAGTGTGTGCATTGAGTGTGTGTGTGCATCAGCAGAGCAGAGCAGCAGCATAGAGCAGAGAGCATCATTGCATAGCCCCATTGCCCCATCATAGAGAGAGCCCTGCATAGCAGCCCTGTGTGCCCCCC'\n",
    "k = 6\n",
    "d = 3"
   ]
  },
  {
   "cell_type": "code",
   "execution_count": 17,
   "metadata": {},
   "outputs": [
    {
     "name": "stdout",
     "output_type": "stream",
     "text": [
      "['CGGCGC', 'GCGCCG']\n",
      "run time is: 1.978915\n"
     ]
    }
   ],
   "source": [
    "start = time.clock()\n",
    "result = MostFrequentPatternReverseD(Genome, k, d)\n",
    "print(result)\n",
    "end = time.clock()\n",
    "print(\"run time is: %f\" % (end - start))"
   ]
  }
 ],
 "metadata": {
  "kernelspec": {
   "display_name": "Python 3",
   "language": "python",
   "name": "python3"
  },
  "language_info": {
   "codemirror_mode": {
    "name": "ipython",
    "version": 3
   },
   "file_extension": ".py",
   "mimetype": "text/x-python",
   "name": "python",
   "nbconvert_exporter": "python",
   "pygments_lexer": "ipython3",
   "version": "3.6.2"
  }
 },
 "nbformat": 4,
 "nbformat_minor": 2
}
