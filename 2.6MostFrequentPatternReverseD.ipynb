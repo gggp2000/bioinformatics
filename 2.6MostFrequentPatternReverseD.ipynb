{
 "cells": [
  {
   "cell_type": "code",
<<<<<<< Updated upstream
   "execution_count": 18,
=======
   "execution_count": 1,
>>>>>>> Stashed changes
   "metadata": {},
   "outputs": [],
   "source": [
    "import time"
   ]
  },
  {
   "cell_type": "code",
<<<<<<< Updated upstream
   "execution_count": 19,
=======
   "execution_count": 2,
>>>>>>> Stashed changes
   "metadata": {},
   "outputs": [],
   "source": [
    "def reversefrag(seq):\n",
    "    newseq = ''\n",
    "    for i in range(len(seq)):\n",
    "        if seq[i] == 'A':\n",
    "            newseq += 'T'\n",
    "        elif seq[i] == 'T':\n",
    "            newseq += 'A'\n",
    "        elif seq[i] == 'G':\n",
    "            newseq += 'C'\n",
    "        elif seq[i] == \"C\":\n",
    "            newseq += 'G'\n",
    "    return newseq[::-1]"
   ]
  },
  {
   "cell_type": "code",
<<<<<<< Updated upstream
   "execution_count": 20,
=======
   "execution_count": 3,
>>>>>>> Stashed changes
   "metadata": {},
   "outputs": [],
   "source": [
    "def MaximumFinding(skew):\n",
    "    i = 0\n",
    "    index = []\n",
    "    while max(skew) in skew[i:]:\n",
    "        j = skew[i:].index(max(skew))\n",
    "        i += j+1\n",
    "        index.append(i-1)\n",
    "    return index"
   ]
  },
  {
   "cell_type": "code",
<<<<<<< Updated upstream
   "execution_count": 21,
=======
   "execution_count": 4,
>>>>>>> Stashed changes
   "metadata": {},
   "outputs": [],
   "source": [
    "def Hamdist(p,q):\n",
    "    if len(p) != len(q):\n",
    "        return -1\n",
    "    k = 0\n",
    "    for i in range(len(p)):\n",
    "        if p[i] != q[i]:\n",
    "            k += 1\n",
    "    return k"
   ]
  },
  {
   "cell_type": "code",
<<<<<<< Updated upstream
   "execution_count": 22,
=======
   "execution_count": 5,
>>>>>>> Stashed changes
   "metadata": {},
   "outputs": [],
   "source": [
    "def ApproxPatternCount(gene,pattern,d):\n",
    "    position = []\n",
    "    k = len(pattern)\n",
    "    for i in range(len(gene)-k+1):\n",
    "        if Hamdist(gene[i:i+k],pattern) <=d:\n",
    "            position.append(i)\n",
    "    return len(position)"
   ]
  },
  {
   "cell_type": "code",
<<<<<<< Updated upstream
   "execution_count": 23,
=======
   "execution_count": 6,
>>>>>>> Stashed changes
   "metadata": {},
   "outputs": [],
   "source": [
    "def NumberToPattern(index, k):\n",
    "    symbol = ['A','C','G','T']\n",
    "    if k == 1 : \n",
    "        return symbol[index]\n",
    "    Prefix = symbol[int(index/4**(k-1))]\n",
    "    reminder = index % 4**(k-1)\n",
    "    return Prefix + NumberToPattern(reminder,k-1)"
   ]
  },
  {
   "cell_type": "code",
<<<<<<< Updated upstream
   "execution_count": 24,
=======
   "execution_count": 7,
>>>>>>> Stashed changes
   "metadata": {},
   "outputs": [],
   "source": [
    "def MostFrequentPatternReverseD(Genome, k, d):\n",
    "    frequency = [0 for x in range(4**k)]\n",
    "    for i in range(len(frequency)):\n",
    "        frequency[i] = ApproxPatternCount(Genome, NumberToPattern(i,k), d)\n",
    "        frequency[i] += ApproxPatternCount(Genome, reversefrag(NumberToPattern(i,k)), d)\n",
    "    result = MaximumFinding(frequency)\n",
    "    return [NumberToPattern(x,k) for x in result]"
   ]
  },
  {
   "cell_type": "code",
<<<<<<< Updated upstream
   "execution_count": 25,
=======
   "execution_count": 8,
>>>>>>> Stashed changes
   "metadata": {},
   "outputs": [],
   "source": [
    "Genome = 'CTCTAAGTTAACTAACTCGACCGACAACGCTGTTACCTACACAAGTTCGAAACAACTGTTCTACACCTCTCGGTTAAACCGCGAAACCTGTTGTTCGGTTGTTCGGTTCGAAAAGTTCTCGCTGTTCTACGTTACAACGGTTCTACCGGTTCGGTTCTCGCGGTTCGGTTCGCGACACACACCTGTTACAAACGTTGTTAACTCGCTGTTAACTCGGTTACCGACCTACGTTCT'\n",
    "k = 6\n",
    "d = 2"
   ]
  },
  {
   "cell_type": "code",
<<<<<<< Updated upstream
   "execution_count": 26,
=======
   "execution_count": 9,
>>>>>>> Stashed changes
   "metadata": {},
   "outputs": [
    {
     "name": "stdout",
     "output_type": "stream",
     "text": [
<<<<<<< Updated upstream
      "['AACGGT', 'ACCGTT']\n",
      "run time is: 2.324146\n"
=======
      "['CGGCGC', 'GCGCCG']\n",
      "run time is: 3.990019\n"
>>>>>>> Stashed changes
     ]
    }
   ],
   "source": [
    "start = time.clock()\n",
    "result = MostFrequentPatternReverseD(Genome, k, d)\n",
    "print(result)\n",
    "end = time.clock()\n",
    "print(\"run time is: %f\" % (end - start))"
   ]
  },
  {
   "cell_type": "code",
   "execution_count": null,
   "metadata": {},
   "outputs": [],
   "source": []
  }
 ],
 "metadata": {
  "kernelspec": {
   "display_name": "Python 3",
   "language": "python",
   "name": "python3"
  },
  "language_info": {
   "codemirror_mode": {
    "name": "ipython",
    "version": 3
   },
   "file_extension": ".py",
   "mimetype": "text/x-python",
   "name": "python",
   "nbconvert_exporter": "python",
   "pygments_lexer": "ipython3",
   "version": "3.6.2"
  }
 },
 "nbformat": 4,
 "nbformat_minor": 2
}
