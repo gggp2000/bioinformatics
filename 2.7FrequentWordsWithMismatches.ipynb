{
 "cells": [
  {
   "cell_type": "code",
   "execution_count": 1,
   "metadata": {},
   "outputs": [],
   "source": [
    "import time"
   ]
  },
  {
   "cell_type": "code",
   "execution_count": 2,
   "metadata": {},
   "outputs": [],
   "source": [
    "def MaximumFinding(skew):\n",
    "    i = 0\n",
    "    index = []\n",
    "    while max(skew) in skew[i:]:\n",
    "        j = skew[i:].index(max(skew))\n",
    "        i += j+1\n",
    "        index.append(i-1)\n",
    "    return index"
   ]
  },
  {
   "cell_type": "code",
   "execution_count": 3,
   "metadata": {},
   "outputs": [],
   "source": [
    "def Hamdist(p,q):\n",
    "    if len(p) != len(q):\n",
    "        return -1\n",
    "    k = 0\n",
    "    for i in range(len(p)):\n",
    "        if p[i] != q[i]:\n",
    "            k += 1\n",
    "    return k"
   ]
  },
  {
   "cell_type": "code",
   "execution_count": 4,
   "metadata": {},
   "outputs": [],
   "source": [
    "def ApproxPatternCount(gene,pattern,d):\n",
    "    position = []\n",
    "    k = len(pattern)\n",
    "    for i in range(len(gene)-k+1):\n",
    "        if Hamdist(gene[i:i+k],pattern) <=d:\n",
    "            position.append(i)\n",
    "    return len(position)"
   ]
  },
  {
   "cell_type": "code",
   "execution_count": 6,
   "metadata": {},
   "outputs": [],
   "source": [
    "def Neighbors(pattern,d):\n",
    "    if d == 0:\n",
    "        return pattern\n",
    "    if len(pattern) == 1:\n",
    "        return ['A','C','G','T']\n",
    "    neighborhood = []\n",
    "    suffixPattern = Neighbors(pattern[1:],d)\n",
    "    for text in suffixPattern:\n",
    "        if Hamdist(text,pattern[1:]) < d:\n",
    "            for prefix in ['A','C','G','T']:\n",
    "                neighborhood.append(prefix+text)\n",
    "        elif Hamdist(text,pattern[1:]) == d:\n",
    "            neighborhood.append(pattern[0]+text)\n",
    "    return list(set(neighborhood))"
   ]
  },
  {
   "cell_type": "code",
   "execution_count": 5,
   "metadata": {},
   "outputs": [],
   "source": [
    "def NumberToPattern(index, k):\n",
    "    symbol = ['A','C','G','T']\n",
    "    if k == 1 : \n",
    "        return symbol[index]\n",
    "    Prefix = symbol[int(index/4**(k-1))]\n",
    "    reminder = index % 4**(k-1)\n",
    "    return Prefix + NumberToPattern(reminder,k-1)"
   ]
  },
  {
   "cell_type": "code",
   "execution_count": 20,
   "metadata": {},
   "outputs": [],
   "source": [
    "def FrequentWordsWithMismatches(Genome, k, d):\n",
    "    Neighborhood = []\n",
    "    fdict = {}\n",
    "    for i in range(len(Genome)-k+1):\n",
    "        Neighborhood += Neighbors(Genome[i:i+k], d)\n",
    "    for i in range(len(Neighborhood)):\n",
    "        if Neighborhood[i] not in fdict.keys():\n",
    "            fdict.update({Neighborhood[i]:1})\n",
    "        else:\n",
    "            fdict[Neighborhood[i]] += 1\n",
    "    keys = list(fdict.keys())\n",
    "    values = list(fdict.values())\n",
    "    output = []\n",
    "    for index in MaximumFinding(values):\n",
    "        output.append(keys[index])\n",
    "    return output"
   ]
  },
  {
   "cell_type": "code",
   "execution_count": 10,
   "metadata": {},
   "outputs": [],
   "source": [
    "def MostFrequentPatternD(Genome, k, d):\n",
    "    frequency = [0 for x in range(4**k)]\n",
    "    for i in range(len(frequency)):\n",
    "        frequency[i] = ApproxPatternCount(Genome, NumberToPattern(i,k), d)\n",
    "    result = MaximumFinding(frequency)\n",
    "    return [NumberToPattern(x,k) for x in result]"
   ]
  },
  {
   "cell_type": "code",
   "execution_count": 22,
   "metadata": {},
   "outputs": [],
   "source": [
    "Genome = 'CCTCCTTATGTATGGCATCCTAAGTATGCCTTATGGCATCCTAAGTATGTATGTTGGCATAAGAAGGCATTTGGCATTTGTATGCCTAAGTATGCCTCCTGCATTATGGCATAAGCCTTTGTTGGCATTTGGCATCCTGCATAAGCCTTTGAAGTATGTATGGCATTTGTATGTTGTATGGCATTTGGCATCCTTATGCCTAAGAAGTATGAAGTTGAAGGCATTTGTATGGCATGCATTTGGCATTTGTTGGCATTTGTATGTATGTTGTATGGCATAAGAAGGCATTATGCCTAAGGCATGCATCCTAAGTATGTTGTTGAAG'\n",
    "k = 5\n",
    "d = 2"
   ]
  },
  {
   "cell_type": "code",
   "execution_count": 23,
   "metadata": {
    "scrolled": true
   },
   "outputs": [
    {
     "name": "stdout",
     "output_type": "stream",
     "text": [
      "['TTTTT']\n",
      "run time is: 0.376741\n"
     ]
    }
   ],
   "source": [
    "start = time.clock()\n",
    "result = MostFrequentPatternD(Genome, k, d)\n",
    "print(result)\n",
    "end = time.clock()\n",
    "print(\"run time is: %f\" % (end - start))"
   ]
  },
  {
   "cell_type": "code",
   "execution_count": 24,
   "metadata": {},
   "outputs": [
    {
     "name": "stdout",
     "output_type": "stream",
     "text": [
      "['TTTTT']\n",
      "run time is: 0.095975\n"
     ]
    }
   ],
   "source": [
    "start = time.clock()\n",
    "result = FrequentWordsWithMismatches(Genome, k, d)\n",
    "print(result)\n",
    "end = time.clock()\n",
    "print(\"run time is: %f\" % (end - start))"
   ]
  }
 ],
 "metadata": {
  "kernelspec": {
   "display_name": "Python 3",
   "language": "python",
   "name": "python3"
  },
  "language_info": {
   "codemirror_mode": {
    "name": "ipython",
    "version": 3
   },
   "file_extension": ".py",
   "mimetype": "text/x-python",
   "name": "python",
   "nbconvert_exporter": "python",
   "pygments_lexer": "ipython3",
   "version": "3.6.2"
  }
 },
 "nbformat": 4,
 "nbformat_minor": 2
}
