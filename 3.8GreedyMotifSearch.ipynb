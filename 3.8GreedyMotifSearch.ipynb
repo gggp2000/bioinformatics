{
 "cells": [
  {
   "cell_type": "code",
   "execution_count": 97,
   "metadata": {
    "collapsed": true
   },
   "outputs": [],
   "source": [
    "import numpy as np\n",
    "import time\n",
    "import math"
   ]
  },
  {
   "cell_type": "code",
   "execution_count": 98,
   "metadata": {
    "collapsed": true
   },
   "outputs": [],
   "source": [
    "def Pr(Pattern, motif):\n",
    "    Symbol = ['A','C','G','T']\n",
    "    probability = 1.0\n",
    "    for i in range(len(Pattern)):\n",
    "        probability *= float(motif[:,i][Symbol.index(Pattern[i])])\n",
    "    return probability"
   ]
  },
  {
   "cell_type": "code",
   "execution_count": 99,
   "metadata": {
    "collapsed": true
   },
   "outputs": [],
   "source": [
    "def MaximumFinding(skew):\n",
    "    i = 0\n",
    "    index = []\n",
    "    while max(skew) in skew[i:]:\n",
    "        j = skew[i:].index(max(skew))\n",
    "        i += j+1\n",
    "        index.append(i-1)\n",
    "    return index"
   ]
  },
  {
   "cell_type": "code",
   "execution_count": 100,
   "metadata": {
    "collapsed": true
   },
   "outputs": [],
   "source": [
    "def Entropy(column):\n",
    "    result  = 0\n",
    "    for i in column:\n",
    "        if i == 0:\n",
    "            result += 0\n",
    "        else:\n",
    "            result += -i*math.log2(i)\n",
    "    return result\n",
    "\n",
    "def Score(motifs):\n",
    "    result = 0\n",
    "    eachEntropy = []\n",
    "    for i in range(len(motifs[0])):\n",
    "        result += Entropy(motifs[:,i])\n",
    "        eachEntropy.append(Entropy(motifs[:,i]))\n",
    "    return result"
   ]
  },
  {
   "cell_type": "code",
   "execution_count": 101,
   "metadata": {
    "collapsed": true
   },
   "outputs": [],
   "source": [
    "def ProfileMotif(Motif):\n",
    "    row = len(Motif)\n",
    "    column = len(Motif[0])\n",
    "    matrix = []\n",
    "    for i in range(row):\n",
    "        matrix += list(Motif[i])\n",
    "    matrix = np.array(matrix).reshape(row,column)\n",
    "    profile = np.zeros((4,column))\n",
    "    for i in range(column):\n",
    "        profile[:,i][0] = np.sum(matrix[:,i]=='A')/row\n",
    "        profile[:,i][1] = np.sum(matrix[:,i]=='C')/row\n",
    "        profile[:,i][2] = np.sum(matrix[:,i]=='G')/row\n",
    "        profile[:,i][3] = np.sum(matrix[:,i]=='T')/row\n",
    "    return profile"
   ]
  },
  {
   "cell_type": "code",
   "execution_count": 102,
   "metadata": {},
   "outputs": [
    {
     "data": {
      "text/plain": [
       "array([[ 0.,  0.,  0.],\n",
       "       [ 0.,  1.,  1.],\n",
       "       [ 1.,  0.,  0.],\n",
       "       [ 0.,  0.,  0.]])"
      ]
     },
     "execution_count": 102,
     "metadata": {},
     "output_type": "execute_result"
    }
   ],
   "source": [
    "Motif = ['GCC']\n",
    "ProfileMotif(Motif)"
   ]
  },
  {
   "cell_type": "code",
   "execution_count": 103,
   "metadata": {
    "collapsed": true
   },
   "outputs": [],
   "source": [
    "def ProfileMostProbablekmer(Genome, k, ProfileMotif):\n",
    "    probable = []\n",
    "    Pattern = []\n",
    "    for i in range(len(Genome)-k+1):\n",
    "        probable.append(Pr(Genome[i:i+k],ProfileMotif))\n",
    "    index = MaximumFinding(probable)\n",
    "    for j in index:\n",
    "        Pattern.append(Genome[j:j+k])\n",
    "    return Pattern[0]"
   ]
  },
  {
   "cell_type": "code",
   "execution_count": 104,
   "metadata": {
    "collapsed": true
   },
   "outputs": [],
   "source": [
    "def GreedyMotifSearch(Dna, k, t):\n",
    "    BestMotifs = []\n",
    "    for i in range(t):\n",
    "        BestMotifs.append(Dna[i][0:k])\n",
    "    for i in range(len(Dna[0])-k+1):\n",
    "        Motifs = []\n",
    "        Motifs.append(Dna[0][i:i+k])\n",
    "        for j in range(1,t):\n",
    "            ProfileMotifs = ProfileMotif(Motifs)\n",
    "            kmer = ProfileMostProbablekmer(Dna[j], k, ProfileMotifs)\n",
    "            Motifs.append(kmer)\n",
    "        if Score(ProfileMotif(Motifs)) < Score(ProfileMotif(BestMotifs)):\n",
    "            BestMotifs = Motifs\n",
    "            #print(BestMotifs)\n",
    "    return BestMotifs"
   ]
  },
  {
   "cell_type": "code",
   "execution_count": 88,
   "metadata": {
    "collapsed": true
   },
   "outputs": [],
   "source": [
    "info = []\n",
    "with open('/Users/igao/Documents/bioinformatics/data/dataset_159_5.txt') as f:\n",
    "    for line in f.readlines():\n",
    "        info.append(line.strip())\n",
    "k = int(info[0].split()[0])\n",
    "t = int(info[0].split()[1])\n",
    "Dna = info[1:]"
   ]
  },
  {
   "cell_type": "code",
   "execution_count": 105,
   "metadata": {
    "collapsed": true
   },
   "outputs": [],
   "source": [
    "k = 3\n",
    "t = 5\n",
    "Dna = ['GGCGTTCAGGCA','AAGAATCAGTCA','CAAGGAGTTCGC','CACGTCAATCAC','CAATAATATTCG']"
   ]
  },
  {
   "cell_type": "code",
   "execution_count": 91,
   "metadata": {},
   "outputs": [
    {
     "name": "stdout",
     "output_type": "stream",
     "text": [
      "1.500000 s\n"
     ]
    }
   ],
   "source": [
    "print(\"%f s\" % 1.5)"
   ]
  },
  {
   "cell_type": "code",
   "execution_count": 106,
   "metadata": {
    "scrolled": false
   },
   "outputs": [
    {
     "name": "stdout",
     "output_type": "stream",
     "text": [
      "run: 0.018632s\n"
     ]
    }
   ],
   "source": [
    "start = time.clock()\n",
    "result = GreedyMotifSearch(Dna, k, t)\n",
    "end = time.clock()\n",
    "print(\"run: %fs\" % (end-start))"
   ]
  },
  {
   "cell_type": "code",
   "execution_count": 107,
   "metadata": {},
   "outputs": [
    {
     "data": {
      "text/plain": [
       "['CAG', 'CAG', 'CAA', 'CAA', 'CAA']"
      ]
     },
     "execution_count": 107,
     "metadata": {},
     "output_type": "execute_result"
    }
   ],
   "source": [
    "result"
   ]
  },
  {
   "cell_type": "code",
   "execution_count": null,
   "metadata": {
    "collapsed": true
   },
   "outputs": [],
   "source": []
  }
 ],
 "metadata": {
  "kernelspec": {
   "display_name": "Python 3",
   "language": "python",
   "name": "python3"
  },
  "language_info": {
   "codemirror_mode": {
    "name": "ipython",
    "version": 3
   },
   "file_extension": ".py",
   "mimetype": "text/x-python",
   "name": "python",
   "nbconvert_exporter": "python",
   "pygments_lexer": "ipython3",
   "version": "3.6.2"
  }
 },
 "nbformat": 4,
 "nbformat_minor": 2
}
