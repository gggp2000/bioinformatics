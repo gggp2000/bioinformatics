{
 "cells": [
  {
   "cell_type": "code",
   "execution_count": 1,
   "metadata": {},
   "outputs": [],
   "source": [
    "def findargmax(l):\n",
    "    i = 0\n",
    "    amax = []\n",
    "    while max(l) in l[i:]:\n",
    "        a = l[i:].index(max(l))\n",
    "        amax.append(a)\n",
    "        i += a+1    \n",
    "    return amax"
   ]
  },
  {
   "cell_type": "code",
   "execution_count": 2,
   "metadata": {},
   "outputs": [],
   "source": [
    "def Hamdist(p,q):\n",
    "    if len(p) != len(q):\n",
    "        return -1\n",
    "    k = 0\n",
    "    for i in range(len(p)):\n",
    "        if p[i] != q[i]:\n",
    "            k += 1\n",
    "    return k"
   ]
  },
  {
   "cell_type": "code",
   "execution_count": 3,
   "metadata": {},
   "outputs": [],
   "source": [
    "def Neighbors(pattern,d):\n",
    "    if d == 0:\n",
    "        return pattern\n",
    "    if len(pattern) == 1:\n",
    "        return ['A','C','G','T']\n",
    "    neighborhood = []\n",
    "    suffixN = Neighbors(pattern[1:],d)\n",
    "    for text in suffixN:\n",
    "        if Hamdist(text,pattern[1:]) < d:\n",
    "            for prefix in ['A','C','G','T']:\n",
    "                neighborhood.append(prefix+text)\n",
    "        elif Hamdist(text,pattern[1:]) == d:\n",
    "            neighborhood.append(pattern[0]+text)\n",
    "    return neighborhood"
   ]
  },
  {
   "cell_type": "code",
   "execution_count": 4,
   "metadata": {},
   "outputs": [],
   "source": [
    "def pattern2num(pattern):\n",
    "    symbol = ['A','C','G','T']\n",
    "    if not pattern[-1] in symbol:\n",
    "        return 0\n",
    "    symnum = symbol.index(pattern[-1])\n",
    "    if len(pattern) > 1 :\n",
    "        prefix = pattern[:-1]\n",
    "    else:\n",
    "        prefix = 'N' #set a stop sign\n",
    "    return symnum + pattern2num(prefix)*4"
   ]
  },
  {
   "cell_type": "code",
   "execution_count": 5,
   "metadata": {},
   "outputs": [],
   "source": [
    "def num2pattern(number,k):\n",
    "    symbol = ['A','C','G','T']\n",
    "    if k == 1: \n",
    "        return symbol[number]\n",
    "    sym = symbol[int(number/4**(k-1))]\n",
    "    reminder = number % 4**(k-1)\n",
    "    return sym + num2pattern(reminder,k-1)"
   ]
  },
  {
   "cell_type": "code",
   "execution_count": 6,
   "metadata": {},
   "outputs": [],
   "source": [
    "def mergedict(r,f):\n",
    "    for k,v in r.items():\n",
    "        if not reversefrag(k) in f.keys():\n",
    "            f.update({reversefrag(k):v})\n",
    "        else:\n",
    "            f[reversefrag(k)] += v\n",
    "    return f"
   ]
  },
  {
   "cell_type": "code",
   "execution_count": 7,
   "metadata": {},
   "outputs": [],
   "source": [
    "def reversefrag(seq):\n",
    "    newseq = ''\n",
    "    for i in range(len(seq)):\n",
    "        if seq[i] == 'A':\n",
    "            newseq += 'T'\n",
    "        elif seq[i] == 'T':\n",
    "            newseq += 'A'\n",
    "        elif seq[i] == 'G':\n",
    "            newseq += 'C'\n",
    "        elif seq[i] == \"C\":\n",
    "            newseq += 'G'\n",
    "    return newseq[::-1]"
   ]
  },
  {
   "cell_type": "code",
   "execution_count": 9,
   "metadata": {},
   "outputs": [],
   "source": [
    "info = []\n",
    "with open('/Users/gaopeng/Downloads/dataset_9_8.txt') as f:\n",
    "    for line in f.readlines():\n",
    "        info.append(line.strip())\n",
    "gene = info[0]\n",
    "k = int(info[1][0])\n",
    "d = int(info[1][2])"
   ]
  },
  {
   "cell_type": "code",
   "execution_count": 19,
   "metadata": {},
   "outputs": [],
   "source": [
    "gene = 'ACGTTGCATGTCGCATGATGCATGAGAGCT'\n",
    "k = 4\n",
    "d = 1"
   ]
  },
  {
   "cell_type": "code",
   "execution_count": null,
   "metadata": {},
   "outputs": [],
   "source": [
    "fdict = {}\n",
    "for i in range(len(gene)-k+1):\n",
    "    for text in Neighbors(gene[i:i+k],d):\n",
    "        if not text in fdict.keys():\n",
    "            fdict.update({text:1})\n",
    "        else: fdict[text] += 1\n",
    "\n",
    "revdict = {} \n",
    "for i in range(len(gene)-k+1):            \n",
    "    for text in Neighbors(reversefrag(gene[i:i+k]),d):\n",
    "        if not text in revdict.keys():\n",
    "            revdict.update({text:1})\n",
    "        else: revdict[text] += 1\n",
    "\n",
    "newdict = mergedict(revdict,fdict)"
   ]
  },
  {
   "cell_type": "code",
   "execution_count": 13,
   "metadata": {},
   "outputs": [
    {
     "data": {
      "text/plain": [
       "'AGTGG'"
      ]
     },
     "execution_count": 13,
     "metadata": {},
     "output_type": "execute_result"
    }
   ],
   "source": [
    "gene[i:i+k] or reversefrag(gene[i:i+k]) in pattern"
   ]
  },
  {
   "cell_type": "code",
   "execution_count": 20,
   "metadata": {},
   "outputs": [],
   "source": [
    "fdict = {}\n",
    "pattern = []\n",
    "for i in range(len(gene)-k+1):\n",
    "    if gene[i:i+k] in pattern or reversefrag(gene[i:i+k]) in pattern:\n",
    "        fdict[gene[i:i+k]] += 1\n",
    "    else:\n",
    "        for text in Neighbors(gene[i:i+k],d):\n",
    "            if not text in fdict.keys():\n",
    "                fdict.update({text:1})\n",
    "            else: fdict[text] += 1         \n",
    "        for text in Neighbors(reversefrag(gene[i:i+k]),d):\n",
    "            if not text in fdict.keys():\n",
    "                fdict.update({text:1})\n",
    "            else: fdict[text] += 1\n",
    "    pattern.append(gene[i:i+k])\n",
    "newdict = fdict\n",
    "#newdict = mergedict(revdict,fdict)"
   ]
  },
  {
   "cell_type": "code",
   "execution_count": 21,
   "metadata": {},
   "outputs": [],
   "source": [
    "key = list(newdict.keys())\n",
    "count = list(newdict.values())"
   ]
  },
  {
   "cell_type": "code",
   "execution_count": 25,
   "metadata": {},
   "outputs": [
    {
     "data": {
      "text/plain": [
       "['ACGT',\n",
       " 'CGTT',\n",
       " 'GTTG',\n",
       " 'TTGC',\n",
       " 'TGCA',\n",
       " 'GCAT',\n",
       " 'CATG',\n",
       " 'ATGT',\n",
       " 'TGTC',\n",
       " 'GTCG',\n",
       " 'TCGC',\n",
       " 'CGCA',\n",
       " 'GCAT',\n",
       " 'CATG',\n",
       " 'ATGA',\n",
       " 'TGAT',\n",
       " 'GATG',\n",
       " 'ATGC',\n",
       " 'TGCA',\n",
       " 'GCAT',\n",
       " 'CATG',\n",
       " 'ATGA',\n",
       " 'TGAG',\n",
       " 'GAGA',\n",
       " 'AGAG',\n",
       " 'GAGC',\n",
       " 'AGCT']"
      ]
     },
     "execution_count": 25,
     "metadata": {},
     "output_type": "execute_result"
    }
   ],
   "source": [
    "pattern"
   ]
  },
  {
   "cell_type": "code",
   "execution_count": 23,
   "metadata": {},
   "outputs": [],
   "source": [
    "i = 0\n",
    "freqwords = []\n",
    "while max(count) in count[i:]:\n",
    "    a = count[i:].index(max(count))\n",
    "    freqwords.append(key[a])\n",
    "    i += a+1"
   ]
  },
  {
   "cell_type": "code",
   "execution_count": 24,
   "metadata": {},
   "outputs": [
    {
     "data": {
      "text/plain": [
       "['GCAT', 'ACAT', 'GCGT', 'CGAT']"
      ]
     },
     "execution_count": 24,
     "metadata": {},
     "output_type": "execute_result"
    }
   ],
   "source": [
    "freqwords"
   ]
  },
  {
   "cell_type": "code",
   "execution_count": null,
   "metadata": {},
   "outputs": [],
   "source": [
    "output = ''\n",
    "for i in findargmax(count):\n",
    "    output += key[i]+' '\n",
    "with open('/Users/gaopeng/Downloads/output98.txt','w') as f:\n",
    "    f.write(output.strip())"
   ]
  },
  {
   "cell_type": "code",
   "execution_count": null,
   "metadata": {},
   "outputs": [],
   "source": []
  }
 ],
 "metadata": {
  "kernelspec": {
   "display_name": "Python 3",
   "language": "python",
   "name": "python3"
  },
  "language_info": {
   "codemirror_mode": {
    "name": "ipython",
    "version": 3
   },
   "file_extension": ".py",
   "mimetype": "text/x-python",
   "name": "python",
   "nbconvert_exporter": "python",
   "pygments_lexer": "ipython3",
   "version": "3.6.2"
  }
 },
 "nbformat": 4,
 "nbformat_minor": 2
}
