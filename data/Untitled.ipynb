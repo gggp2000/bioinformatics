{
 "cells": [
  {
   "cell_type": "code",
   "execution_count": 1,
   "metadata": {},
   "outputs": [],
   "source": [
    "import os\n",
    "import numpy as np"
   ]
  },
  {
   "cell_type": "code",
   "execution_count": 2,
   "metadata": {},
   "outputs": [],
   "source": [
    "info = []"
   ]
  },
  {
   "cell_type": "code",
   "execution_count": 4,
   "metadata": {},
   "outputs": [],
   "source": [
    "with open('/Users/gaopeng/Downloads/dataset_2_10.txt') as f:\n",
    "    for line in f.readlines():\n",
    "        info.append(line.strip())"
   ]
  },
  {
   "cell_type": "code",
   "execution_count": 5,
   "metadata": {
    "scrolled": true
   },
   "outputs": [
    {
     "data": {
      "text/plain": [
       "['TTGAGCACTCCCCCGTTCCCCCGTTCCCCCGTCGCGCTGAATCCCCCGTCGCGCTGAATCCCCCGTGAGAGAGTGCGAGAGAGTGCTCCCCCGTTGTTACGGTCGAGAGAGTGCGAGAGAGTGCCGCGCTGAAGAGAGAGTGCTTGAGCACTCCCCCGTTCCCCCGTTCCCCCGTCGCGCTGAATCCCCCGTTGTTACGGTCTGTTACGGTCTGTTACGGTCTGTTACGGTCTTGAGCACCGCGCTGAATTGAGCACCGCGCTGAACGCGCTGAATTGAGCACTCCCCCGTCGCGCTGAATCCCCCGTCGCGCTGAACGCGCTGAACGCGCTGAAGAGAGAGTGCCGCGCTGAATGTTACGGTCTGTTACGGTCGAGAGAGTGCTGTTACGGTCTTGAGCACCGCGCTGAATGTTACGGTCTTGAGCACGAGAGAGTGCTTGAGCACTTGAGCACGAGAGAGTGCTTGAGCACTTGAGCACGAGAGAGTGCTTGAGCACTTGAGCACTGTTACGGTCGAGAGAGTGCTCCCCCGTTTGAGCACTCCCCCGTTCCCCCGTTCCCCCGTTCCCCCGTCGCGCTGAATTGAGCACTGTTACGGTCTTGAGCACGAGAGAGTGCGAGAGAGTGCCGCGCTGAATCCCCCGTTCCCCCGTGAGAGAGTGCGAGAGAGTGCCGCGCTGAACGCGCTGAACGCGCTGAATGTTACGGTCTGTTACGGTCTGTTACGGTCGAGAGAGTGCGAGAGAGTGCTCCCCCGTGAGAGAGTGCGAGAGAGTGCTTGAGCACGAGAGAGTGCTCCCCCGTTTGAGCACTTGAGCACGAGAGAGTGCTCCCCCGTCGCGCTGAATGTTACGGTCCGCGCTGAACGCGCTGAATCCCCCGTTTGAGCACCGCGCTGAATGTTACGGTC',\n",
       " '11']"
      ]
     },
     "execution_count": 5,
     "metadata": {},
     "output_type": "execute_result"
    }
   ],
   "source": [
    "info"
   ]
  },
  {
   "cell_type": "code",
   "execution_count": 6,
   "metadata": {},
   "outputs": [],
   "source": [
    "text = info[0]\n",
    "k = int(info[1])\n",
    "counter = []"
   ]
  },
  {
   "cell_type": "code",
   "execution_count": 7,
   "metadata": {},
   "outputs": [],
   "source": [
    "for i in range(len(text)-k):\n",
    "    counter.append(text.count(text[i:i+k],0,len(text)-k))"
   ]
  },
  {
   "cell_type": "code",
   "execution_count": 8,
   "metadata": {
    "scrolled": true
   },
   "outputs": [],
   "source": [
    "maxcount = []"
   ]
  },
  {
   "cell_type": "code",
   "execution_count": 9,
   "metadata": {},
   "outputs": [],
   "source": [
    "for i in range(len(text)-k):\n",
    "    if counter[i] == max(counter):\n",
    "        maxcount.append(i)"
   ]
  },
  {
   "cell_type": "code",
   "execution_count": 10,
   "metadata": {
    "scrolled": true
   },
   "outputs": [
    {
     "data": {
      "text/plain": [
       "[75, 103, 113, 373, 428, 454, 480, 516, 609, 619, 664, 731, 741, 769, 787, 821]"
      ]
     },
     "execution_count": 10,
     "metadata": {},
     "output_type": "execute_result"
    }
   ],
   "source": [
    "maxcount"
   ]
  },
  {
   "cell_type": "code",
   "execution_count": 11,
   "metadata": {},
   "outputs": [
    {
     "data": {
      "text/plain": [
       "912"
      ]
     },
     "execution_count": 11,
     "metadata": {},
     "output_type": "execute_result"
    }
   ],
   "source": [
    "len(text)"
   ]
  },
  {
   "cell_type": "code",
   "execution_count": 12,
   "metadata": {},
   "outputs": [
    {
     "data": {
      "text/plain": [
       "13"
      ]
     },
     "execution_count": 12,
     "metadata": {},
     "output_type": "execute_result"
    }
   ],
   "source": [
    "max(counter)"
   ]
  },
  {
   "cell_type": "code",
   "execution_count": 13,
   "metadata": {},
   "outputs": [],
   "source": [
    "frequent = []"
   ]
  },
  {
   "cell_type": "code",
   "execution_count": 14,
   "metadata": {},
   "outputs": [],
   "source": [
    "for i in maxcount:\n",
    "    frequent.append(text[i:i+k])"
   ]
  },
  {
   "cell_type": "code",
   "execution_count": 15,
   "metadata": {},
   "outputs": [
    {
     "data": {
      "text/plain": [
       "['CGAGAGAGTGC',\n",
       " 'CGAGAGAGTGC',\n",
       " 'CGAGAGAGTGC',\n",
       " 'CGAGAGAGTGC',\n",
       " 'CGAGAGAGTGC',\n",
       " 'CGAGAGAGTGC',\n",
       " 'CGAGAGAGTGC',\n",
       " 'CGAGAGAGTGC',\n",
       " 'CGAGAGAGTGC',\n",
       " 'CGAGAGAGTGC',\n",
       " 'CGAGAGAGTGC',\n",
       " 'CGAGAGAGTGC',\n",
       " 'CGAGAGAGTGC',\n",
       " 'CGAGAGAGTGC',\n",
       " 'CGAGAGAGTGC',\n",
       " 'CGAGAGAGTGC']"
      ]
     },
     "execution_count": 15,
     "metadata": {},
     "output_type": "execute_result"
    }
   ],
   "source": [
    "frequent"
   ]
  },
  {
   "cell_type": "code",
   "execution_count": 16,
   "metadata": {},
   "outputs": [],
   "source": [
    "freq = []\n",
    "for i in frequent:\n",
    "    if not i in freq:\n",
    "        freq.append(i)"
   ]
  },
  {
   "cell_type": "code",
   "execution_count": 18,
   "metadata": {
    "scrolled": false
   },
   "outputs": [
    {
     "name": "stdout",
     "output_type": "stream",
     "text": [
      "['CGAGAGAGTGC']\n"
     ]
    }
   ],
   "source": [
    "print(freq)"
   ]
  },
  {
   "cell_type": "code",
   "execution_count": null,
   "metadata": {},
   "outputs": [],
   "source": []
  }
 ],
 "metadata": {
  "kernelspec": {
   "display_name": "Python 2",
   "language": "python",
   "name": "python2"
  },
  "language_info": {
   "codemirror_mode": {
    "name": "ipython",
    "version": 2
   },
   "file_extension": ".py",
   "mimetype": "text/x-python",
   "name": "python",
   "nbconvert_exporter": "python",
   "pygments_lexer": "ipython2",
   "version": "2.7.10"
  }
 },
 "nbformat": 4,
 "nbformat_minor": 2
}
