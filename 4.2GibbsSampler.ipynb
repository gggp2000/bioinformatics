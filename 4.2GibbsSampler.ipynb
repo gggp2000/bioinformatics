{
 "cells": [
  {
   "cell_type": "code",
   "execution_count": 1,
   "metadata": {},
   "outputs": [],
   "source": [
    "import random"
   ]
  },
  {
   "cell_type": "code",
   "execution_count": 43,
   "metadata": {},
   "outputs": [],
   "source": [
    "import numpy as np"
   ]
  },
  {
   "cell_type": "code",
   "execution_count": 50,
   "metadata": {},
   "outputs": [],
   "source": [
    "import math"
   ]
  },
  {
   "cell_type": "code",
   "execution_count": 101,
   "metadata": {},
   "outputs": [],
   "source": [
    "import time"
   ]
  },
  {
   "cell_type": "code",
   "execution_count": 23,
   "metadata": {},
   "outputs": [],
   "source": [
    "def Random_probabilies(dices, probabilities):\n",
    "    prob = [x/sum(probabilities) for x in probabilities]\n",
    "    rolldice = random.uniform(0,1)\n",
    "    initial  = 0\n",
    "    for dice, probability in zip(dices,prob):\n",
    "        initial += probability\n",
    "        if  rolldice < initial:\n",
    "            break\n",
    "    return dice"
   ]
  },
  {
   "cell_type": "code",
   "execution_count": 29,
   "metadata": {},
   "outputs": [
    {
     "name": "stdout",
     "output_type": "stream",
     "text": [
      "1596 3126 6381 12682 25366 50849\n"
     ]
    }
   ],
   "source": [
    "result = []\n",
    "for i in range(100000):\n",
    "    result.append(Random_probabilies(dices, probabilities))\n",
    "print(result.count(1),result.count(2),result.count(3),result.count(4),result.count(5),result.count(6))"
   ]
  },
  {
   "cell_type": "code",
   "execution_count": 142,
   "metadata": {},
   "outputs": [],
   "source": [
    "Dna = ['CGCCCCTCTCGGGGGTGTTCAGTAAACGGCCA',\n",
    "       'GGGCGAGGTATGTGTAAGTGCCAAGGTGCCAG',\n",
    "       'TAGTACCGAGACCGAAAGAAGTATACAGGCGT',\n",
    "       'TAGATCAAGTTTCAGGTGCACGTCGGTGAACC',\n",
    "       'AATCCACCAGCTCCACGTGCAATGTTGGCCTA']\n",
    "k = 8\n",
    "t = 5\n",
    "N = 100"
   ]
  },
  {
   "cell_type": "code",
   "execution_count": 31,
   "metadata": {},
   "outputs": [],
   "source": [
    "def initialMotifs(Dna,k):\n",
    "    Motifs = []\n",
    "    for String in Dna:\n",
    "        index = random.randint(0,(len(String)-k))\n",
    "        Motifs.append(String[index:index+k])\n",
    "    return Motifs"
   ]
  },
  {
   "cell_type": "code",
   "execution_count": 44,
   "metadata": {},
   "outputs": [],
   "source": [
    "def ProfileMotif(Motif):\n",
    "    row = len(Motif)\n",
    "    column = len(Motif[0])\n",
    "    matrix = []\n",
    "    for i in range(row):\n",
    "        matrix += list(Motif[i])\n",
    "    matrix = np.array(matrix).reshape(row,column)\n",
    "    profile = np.zeros((4,column))\n",
    "    for i in range(column):\n",
    "        profile[:,i][0] = (np.sum(matrix[:,i]=='A')+1)/(row+4)\n",
    "        profile[:,i][1] = (np.sum(matrix[:,i]=='C')+1)/(row+4)\n",
    "        profile[:,i][2] = (np.sum(matrix[:,i]=='G')+1)/(row+4)\n",
    "        profile[:,i][3] = (np.sum(matrix[:,i]=='T')+1)/(row+4)\n",
    "    return profile"
   ]
  },
  {
   "cell_type": "code",
   "execution_count": 46,
   "metadata": {},
   "outputs": [],
   "source": [
    "def Pr(Pattern, ProfileMotif):\n",
    "    Symbol = ['A','C','G','T']\n",
    "    probability = 1.0\n",
    "    for i in range(len(Pattern)):\n",
    "        probability *= float(ProfileMotif[:,i][Symbol.index(Pattern[i])])\n",
    "    return probability"
   ]
  },
  {
   "cell_type": "code",
   "execution_count": 47,
   "metadata": {},
   "outputs": [],
   "source": [
    "def ProfileRandomlyGeneratedkmer(Genome, k, Prof):\n",
    "    kmer = []\n",
    "    probable = []\n",
    "    for i in range(len(Genome)-k+1):\n",
    "        kmer.append(Genome[i:i+k])\n",
    "        probable.append(Pr(Genome[i:i+k],Prof))\n",
    "    return Random_probabilies(kmer, probable)"
   ]
  },
  {
   "cell_type": "code",
   "execution_count": 45,
   "metadata": {},
   "outputs": [],
   "source": [
    "def Entropy(column):\n",
    "    result  = 0\n",
    "    for i in column:\n",
    "        if i == 0:\n",
    "            result += 0\n",
    "        else:\n",
    "            result += -i*math.log2(i)\n",
    "    return result\n",
    "\n",
    "def Score(motifs):\n",
    "    result = 0\n",
    "    eachEntropy = []\n",
    "    for i in range(len(motifs[0])):\n",
    "        result += Entropy(motifs[:,i])\n",
    "        eachEntropy.append(Entropy(motifs[:,i]))\n",
    "    return result"
   ]
  },
  {
   "cell_type": "code",
   "execution_count": 64,
   "metadata": {},
   "outputs": [],
   "source": [
    "def Hamdist(p,q):\n",
    "    if len(p) != len(q):\n",
    "        return -1\n",
    "    k = 0\n",
    "    for i in range(len(p)):\n",
    "        if p[i] != q[i]:\n",
    "            k += 1\n",
    "    return k\n",
    "def Consensus(Motifs):\n",
    "    matrix = ProfileMotif(Motifs)\n",
    "    Symbol = ['A','C','G','T']\n",
    "    consensus = ''\n",
    "    for i in range(len(matrix[0])):\n",
    "        consensus += Symbol[matrix[:,i].argmax()]\n",
    "    return consensus\n",
    "\n",
    "def Score2(motifs):\n",
    "    result = 0\n",
    "    Pattern = Consensus(motifs)\n",
    "    for i in range(len(motifs)):\n",
    "        result += Hamdist(motifs[i],Pattern)\n",
    "    return result"
   ]
  },
  {
   "cell_type": "code",
   "execution_count": 211,
   "metadata": {},
   "outputs": [],
   "source": [
    "def MaximumFinding(skew):\n",
    "    i = 0\n",
    "    index = []\n",
    "    while max(skew) in skew[i:]:\n",
    "        j = skew[i:].index(max(skew))\n",
    "        i += j+1\n",
    "        index.append(i-1)\n",
    "    return index"
   ]
  },
  {
   "cell_type": "code",
   "execution_count": 209,
   "metadata": {},
   "outputs": [],
   "source": [
    "def ProfileMostProbablekmer(Genome, k, ProfileMotif):\n",
    "    probable = []\n",
    "    Pattern = []\n",
    "    for i in range(len(Genome)-k+1):\n",
    "        probable.append(Pr(Genome[i:i+k],ProfileMotif))\n",
    "    index = MaximumFinding(probable)\n",
    "    for j in index:\n",
    "        Pattern.append(Genome[j:j+k])\n",
    "    return Pattern[0]"
   ]
  },
  {
   "cell_type": "code",
   "execution_count": 207,
   "metadata": {},
   "outputs": [],
   "source": [
    "def MotifsProfile(Profile, Dna):\n",
    "    Motifs = []\n",
    "    k = len(Profile[0])\n",
    "    for Genome in Dna:\n",
    "        Motifs.append(ProfileMostProbablekmer(Genome, k, Profile))\n",
    "    return Motifs"
   ]
  },
  {
   "cell_type": "code",
   "execution_count": 205,
   "metadata": {},
   "outputs": [],
   "source": [
    "def RandomizedMotifSearch(Dna, k, t):\n",
    "    Motifs = initialMotifs(Dna,k)\n",
    "    BestMotifs = Motifs\n",
    "    while 1:\n",
    "        profile = ProfileMotif(Motifs)\n",
    "        Motifs = MotifsProfile(profile,Dna)\n",
    "        if Score(ProfileMotif(Motifs)) < Score(ProfileMotif(BestMotifs)):\n",
    "        #if Score2(Motifs)<Score2(BestMotifs):\n",
    "            BestMotifs = Motifs  #\n",
    "        else:\n",
    "            return BestMotifs"
   ]
  },
  {
   "cell_type": "code",
   "execution_count": 73,
   "metadata": {},
   "outputs": [],
   "source": [
    "def GibbsSampler(Dna, k, t, N):\n",
    "    Motifs = initialMotifs(Dna, k)\n",
    "    BestMotifs = Motifs\n",
    "    for j in range(N):\n",
    "        i = random.randint(0,t-1)\n",
    "        Motifs.pop(i)\n",
    "        Prof = ProfileMotif(Motifs)\n",
    "        kmer = ProfileRandomlyGeneratedkmer(Dna[i], k, Prof)\n",
    "        Motifs.insert(i,kmer)\n",
    "        #if Score(ProfileMotif(Motifs)) < Score(ProfileMotif(BestMotifs)):\n",
    "        if Score2(Motifs) < Score2(BestMotifs) :\n",
    "            BestMotifs = Motifs\n",
    "    return BestMotifs"
   ]
  },
  {
   "cell_type": "code",
   "execution_count": 214,
   "metadata": {},
   "outputs": [],
   "source": [
    "def CombinedGibbsSamplerWithRandomizedMotifSearch(Dna, k, t, N):\n",
    "    Scorex = float('inf')\n",
    "    for i in range(30):\n",
    "        Motifs = RandomizedMotifSearch(Dna, k, t)\n",
    "        if Score2(motifs) < Scorex:\n",
    "            Scorex = Score2(motifs)\n",
    "            BestMotifs = Motifs\n",
    "    for j in range(N):\n",
    "        i = random.randint(0,t-1)\n",
    "        Motifs.pop(i)\n",
    "        Prof = ProfileMotif(Motifs)\n",
    "        kmer = ProfileRandomlyGeneratedkmer(Dna[i], k, Prof)\n",
    "        Motifs.insert(i,kmer)\n",
    "        #if Score(ProfileMotif(Motifs)) < Score(ProfileMotif(BestMotifs)):\n",
    "        if Score2(Motifs) < Score2(BestMotifs) :\n",
    "            BestMotifs = Motifs\n",
    "    return BestMotifs"
   ]
  },
  {
   "cell_type": "code",
   "execution_count": 213,
   "metadata": {
    "scrolled": true
   },
   "outputs": [
    {
     "name": "stdout",
     "output_type": "stream",
     "text": [
      "run: 0.225065s\n"
     ]
    }
   ],
   "source": [
    "start = time.clock()\n",
    "BestMotifs = RandomizedMotifSearch(Dna, k, t)\n",
    "end = time.clock()\n",
    "print(\"run: %fs\" % (end-start))"
   ]
  },
  {
   "cell_type": "code",
   "execution_count": 197,
   "metadata": {},
   "outputs": [],
   "source": [
    "info = []\n",
    "with open('/Users/gaopeng/Documents/bioinformatics/data/dataset_163_4.txt') as f:\n",
    "    for line in f.readlines():\n",
    "        info.append(line.strip())\n",
    "k = int(info[0].split()[0])\n",
    "t = int(info[0].split()[1])\n",
    "N = int(info[0].split()[2])\n",
    "Dna = info[1:]"
   ]
  },
  {
   "cell_type": "code",
   "execution_count": 216,
   "metadata": {},
   "outputs": [
    {
     "name": "stdout",
     "output_type": "stream",
     "text": [
      "run: 17.129837s\n"
     ]
    }
   ],
   "source": [
    "start = time.clock()\n",
    "Scorex = float('inf')\n",
    "BestMotifs = CombinedGibbsSamplerWithRandomizedMotifSearch(Dna, k, t, N)\n",
    "end = time.clock()\n",
    "print(\"run: %fs\" % (end-start))"
   ]
  },
  {
   "cell_type": "code",
   "execution_count": 222,
   "metadata": {},
   "outputs": [
    {
     "name": "stdout",
     "output_type": "stream",
     "text": [
      "run: 25.122671s\n"
     ]
    },
    {
     "data": {
      "text/plain": [
       "87"
      ]
     },
     "execution_count": 222,
     "metadata": {},
     "output_type": "execute_result"
    }
   ],
   "source": [
    "start = time.clock()\n",
    "Scorex = float('inf')\n",
    "for i in range(3):\n",
    "    motifs = GibbsSampler(Dna, k, t, N)\n",
    "    if Score2(motifs) < Scorex:\n",
    "        Scorex = Score2(motifs)\n",
    "        BestMotifs = motifs\n",
    "end = time.clock()\n",
    "print(\"run: %fs\" % (end-start))\n",
    "Score2(BestMotifs)"
   ]
  },
  {
   "cell_type": "code",
   "execution_count": 220,
   "metadata": {},
   "outputs": [
    {
     "data": {
      "text/plain": [
       "65"
      ]
     },
     "execution_count": 220,
     "metadata": {},
     "output_type": "execute_result"
    }
   ],
   "source": [
    "Score2(BestMotifs)"
   ]
  },
  {
   "cell_type": "code",
   "execution_count": 203,
   "metadata": {},
   "outputs": [
    {
     "name": "stdout",
     "output_type": "stream",
     "text": [
      "run: 85.496146s\n"
     ]
    }
   ],
   "source": [
    "start = time.clock()\n",
    "Scorex = float('inf')\n",
    "for i in range(10):\n",
    "    motifs = GibbsSampler(Dna, k, t, N)\n",
    "    if Score2(motifs) < Scorex:\n",
    "        Scorex = Score2(motifs)\n",
    "        BestMotifs = motifs\n",
    "end = time.clock()\n",
    "print(\"run: %fs\" % (end-start))"
   ]
  },
  {
   "cell_type": "code",
   "execution_count": 204,
   "metadata": {
    "scrolled": true
   },
   "outputs": [
    {
     "name": "stdout",
     "output_type": "stream",
     "text": [
      "GGTTTAGACCTTAGG\n",
      "AGTACCTTCATTGGC\n",
      "ACACAGTTCATTGGC\n",
      "AGTTATAACATTGGC\n",
      "TATTAGTTCATTGGA\n",
      "TTCTAGTTCATTGGC\n",
      "AGTTAGACAATTGGC\n",
      "AGTTAGTATGTTGGC\n",
      "AGTGTCTTCATTGGC\n",
      "AGCGTGTTCATTGGC\n",
      "AGTTAGTTCGGGGGC\n",
      "AGTTAGTTCATGACC\n",
      "GGTTAGTTCATTGTA\n",
      "AGTTGAATCATTGGC\n",
      "AGTTACCGCATTGGC\n",
      "AGTTAGTTACATGGC\n",
      "AGTTAGTTCATTCTG\n",
      "AGTTAGAAAATTGGC\n",
      "AGTTAGTTCAGGCGC\n",
      "AGTTTCGTCATTGGC\n",
      " 65\n"
     ]
    }
   ],
   "source": [
    "r = ''\n",
    "for i in BestMotifs:\n",
    "    r += i+'\\n'\n",
    "print(r,Score2(BestMotifs))"
   ]
  },
  {
   "cell_type": "code",
   "execution_count": 66,
   "metadata": {},
   "outputs": [
    {
     "data": {
      "text/plain": [
       "9"
      ]
     },
     "execution_count": 66,
     "metadata": {},
     "output_type": "execute_result"
    }
   ],
   "source": [
    "Score2(['TCTCGGGG','CCAAGGTG','TACAGGCG','TTCAGGTG','TCCACGTG'])"
   ]
  },
  {
   "cell_type": "code",
   "execution_count": 223,
   "metadata": {},
   "outputs": [
    {
     "data": {
      "text/plain": [
       "250"
      ]
     },
     "execution_count": 223,
     "metadata": {},
     "output_type": "execute_result"
    }
   ],
   "source": [
    "info = []\n",
    "with open('/Users/gaopeng/Documents/bioinformatics/data/DosR.txt') as f:\n",
    "    for line in f.readlines():\n",
    "        info.append(line.strip())\n",
    "Dna = info\n",
    "t = len(Dna)\n",
    "len(Dna[0])"
   ]
  },
  {
   "cell_type": "code",
   "execution_count": 224,
   "metadata": {},
   "outputs": [
    {
     "name": "stdout",
     "output_type": "stream",
     "text": [
      "run: 0.843938s\n"
     ]
    },
    {
     "data": {
      "text/plain": [
       "69"
      ]
     },
     "execution_count": 224,
     "metadata": {},
     "output_type": "execute_result"
    }
   ],
   "source": [
    "k = 20\n",
    "N = 200\n",
    "start = time.clock()\n",
    "BestMotifs = GibbsSampler(Dna, k, t, N)\n",
    "end = time.clock()\n",
    "print(\"run: %fs\" % (end-start))\n",
    "Score2(BestMotifs)"
   ]
  },
  {
   "cell_type": "code",
   "execution_count": 230,
   "metadata": {},
   "outputs": [
    {
     "name": "stdout",
     "output_type": "stream",
     "text": [
      "run: 8.297413s\n",
      "55\n"
     ]
    },
    {
     "data": {
      "text/plain": [
       "'CGGGACCTACGTCCCTAGCC'"
      ]
     },
     "execution_count": 230,
     "metadata": {},
     "output_type": "execute_result"
    }
   ],
   "source": [
    "k = 20\n",
    "N = 200\n",
    "start = time.clock()\n",
    "Scorex = float('inf')\n",
    "for i in range(10):\n",
    "    motifs = GibbsSampler(Dna, k, t, N)\n",
    "    if Score2(motifs) < Scorex:\n",
    "        Scorex = Score2(motifs)\n",
    "        BestMotifs = motifs\n",
    "end = time.clock()\n",
    "print(\"run: %fs\" % (end-start))\n",
    "print(Score2(BestMotifs))\n",
    "Consensus(BestMotifs)"
   ]
  },
  {
   "cell_type": "code",
   "execution_count": 226,
   "metadata": {},
   "outputs": [
    {
     "data": {
      "text/plain": [
       "62"
      ]
     },
     "execution_count": 226,
     "metadata": {},
     "output_type": "execute_result"
    }
   ],
   "source": [
    "Score2(BestMotifs)"
   ]
  },
  {
   "cell_type": "code",
   "execution_count": null,
   "metadata": {},
   "outputs": [],
   "source": []
  }
 ],
 "metadata": {
  "kernelspec": {
   "display_name": "Python 3",
   "language": "python",
   "name": "python3"
  },
  "language_info": {
   "codemirror_mode": {
    "name": "ipython",
    "version": 3
   },
   "file_extension": ".py",
   "mimetype": "text/x-python",
   "name": "python",
   "nbconvert_exporter": "python",
   "pygments_lexer": "ipython3",
   "version": "3.6.2"
  }
 },
 "nbformat": 4,
 "nbformat_minor": 2
}
