{
 "cells": [
  {
   "cell_type": "code",
   "execution_count": 26,
   "metadata": {},
   "outputs": [],
   "source": [
    "def PatternToNumber(Pattern):\n",
    "    if Pattern == []: return -1\n",
    "    symbol = ['A','C','G','T']\n",
    "    if len(Pattern) == 1: \n",
    "        return symbol.index(Pattern)\n",
    "    else:\n",
    "        Prefix = Pattern[:-1]\n",
    "    return symbol.index(Pattern[-1]) + PatternToNumber(Prefix)*4"
   ]
  },
  {
   "cell_type": "code",
   "execution_count": 27,
   "metadata": {},
   "outputs": [
    {
     "data": {
      "text/plain": [
       "45"
      ]
     },
     "execution_count": 27,
     "metadata": {},
     "output_type": "execute_result"
    }
   ],
   "source": [
    "PatternToNumber('AGTC')"
   ]
  },
  {
   "cell_type": "code",
   "execution_count": 22,
   "metadata": {},
   "outputs": [],
   "source": [
    "def NumberToPattern(index, k):\n",
    "    symbol = ['A','C','G','T']\n",
    "    if k == 1 : \n",
    "        return symbol[index]\n",
    "    Prefix = symbol[int(index/4**(k-1))]\n",
    "    reminder = index % 4**(k-1)\n",
    "    return Prefix + NumberToPattern(reminder,k-1)"
   ]
  },
  {
   "cell_type": "code",
   "execution_count": 25,
   "metadata": {},
   "outputs": [
    {
     "data": {
      "text/plain": [
       "'AAAAAAAAAG'"
      ]
     },
     "execution_count": 25,
     "metadata": {},
     "output_type": "execute_result"
    }
   ],
   "source": [
    "index = 2\n",
    "k = 10\n",
    "NumberToPattern(index,k)"
   ]
  },
  {
   "cell_type": "code",
   "execution_count": 15,
   "metadata": {},
   "outputs": [
    {
     "data": {
      "text/plain": [
       "1931"
      ]
     },
     "execution_count": 15,
     "metadata": {},
     "output_type": "execute_result"
    }
   ],
   "source": [
    "PatternToNumber(Pattern)"
   ]
  },
  {
   "cell_type": "code",
   "execution_count": 20,
   "metadata": {},
   "outputs": [],
   "source": [
    "def pattern2num(pattern):\n",
    "    symbol = ['A','C','G','T']\n",
    "    if not pattern[-1] in symbol:\n",
    "        return 0\n",
    "    symnum = symbol.index(pattern[-1])\n",
    "    if len(pattern) > 1 :\n",
    "        prefix = pattern[:-1]\n",
    "    else:\n",
    "        prefix = 'N' #set a stop sign\n",
    "    return symnum + pattern2num(prefix)*4"
   ]
  },
  {
   "cell_type": "code",
   "execution_count": 185,
   "metadata": {},
   "outputs": [],
   "source": [
    "pattern = 'CGTAACAATGT'"
   ]
  },
  {
   "cell_type": "code",
   "execution_count": 187,
   "metadata": {
    "scrolled": false
   },
   "outputs": [
    {
     "data": {
      "text/plain": [
       "1770555"
      ]
     },
     "execution_count": 187,
     "metadata": {},
     "output_type": "execute_result"
    }
   ],
   "source": [
    "pattern2num(pattern)"
   ]
  },
  {
   "cell_type": "code",
   "execution_count": 45,
   "metadata": {},
   "outputs": [],
   "source": [
    "def num2pattern(number,k):\n",
    "    symbol = ['A','C','G','T']\n",
    "    if k == 1: \n",
    "        return symbol[number]\n",
    "    sym = symbol[int(number/4**(k-1))]\n",
    "    reminder = number % 4**(k-1)\n",
    "    return sym + num2pattern(reminder,k-1)"
   ]
  },
  {
   "cell_type": "code",
   "execution_count": 184,
   "metadata": {
    "scrolled": true
   },
   "outputs": [
    {
     "data": {
      "text/plain": [
       "'TTCGACGTCCT'"
      ]
     },
     "execution_count": 184,
     "metadata": {},
     "output_type": "execute_result"
    }
   ],
   "source": [
    "num2pattern(4032215,11)"
   ]
  },
  {
   "cell_type": "code",
   "execution_count": 202,
   "metadata": {},
   "outputs": [],
   "source": [
    "info = []\n",
    "with open('/Users/gaopeng/Downloads/dataset_4_5.txt') as f:\n",
    "    for line in f.readlines():\n",
    "        info.append(line.strip())\n",
    "gene = info[0]\n",
    "para = info[1]"
   ]
  },
  {
   "cell_type": "code",
   "execution_count": 203,
   "metadata": {},
   "outputs": [
    {
     "data": {
      "text/plain": [
       "['12', '494', '20']"
      ]
     },
     "execution_count": 203,
     "metadata": {},
     "output_type": "execute_result"
    }
   ],
   "source": [
    "para = info[1].split()\n",
    "para"
   ]
  },
  {
   "cell_type": "code",
   "execution_count": 204,
   "metadata": {},
   "outputs": [],
   "source": [
    "k = int(para[0])\n",
    "L = int(para[1])\n",
    "t = int(para[2])"
   ]
  },
  {
   "cell_type": "code",
   "execution_count": 205,
   "metadata": {},
   "outputs": [
    {
     "data": {
      "text/plain": [
       "9823"
      ]
     },
     "execution_count": 205,
     "metadata": {},
     "output_type": "execute_result"
    }
   ],
   "source": [
    "len(gene) "
   ]
  },
  {
   "cell_type": "code",
   "execution_count": 190,
   "metadata": {},
   "outputs": [],
   "source": [
    "def clumpfind(gen,k,L,t):\n",
    "    fdict = {}\n",
    "    kmer = []\n",
    "    for i in range(L-k+1):\n",
    "        pnum = pattern2num(gen[i:i+k])\n",
    "        if not pnum in fdict.keys():\n",
    "            fdict.update({pnum:1})\n",
    "        elif pnum in fdict.keys():\n",
    "            fdict[pnum] += 1\n",
    "    kmer += findkmer(fdict,t)\n",
    "    #print(kmer)\n",
    "    for j in range(1,len(gen)-L+1):\n",
    "        pnum1 = pattern2num(gen[j-1:j-1+k]) #need to -1\n",
    "        fdict[pnum1] -= 1\n",
    "        pnum2 = pattern2num(gen[L-k+j:L+j])\n",
    "        if not pnum2 in fdict.keys():\n",
    "            fdict.update({pnum2:1})\n",
    "        elif pnum2 in fdict.keys():\n",
    "            fdict[pnum2] += 1\n",
    "        if fdict[pnum2] >=t:\n",
    "            kmer.append(pnum2)\n",
    "    return kmer"
   ]
  },
  {
   "cell_type": "code",
   "execution_count": 169,
   "metadata": {},
   "outputs": [],
   "source": [
    "def findkmer(dic,t):\n",
    "    output = []\n",
    "    value_list = list(dic.values())\n",
    "    key_list = list(dic.keys())\n",
    "    for i in range(len(value_list)):\n",
    "        if value_list[i] >= t:\n",
    "            output.append(key_list[i]) \n",
    "    return output"
   ]
  },
  {
   "cell_type": "code",
   "execution_count": 206,
   "metadata": {},
   "outputs": [],
   "source": [
    "output = clumpfind(gene,k,L,t)"
   ]
  },
  {
   "cell_type": "code",
   "execution_count": 207,
   "metadata": {},
   "outputs": [],
   "source": [
    "out = list(set(output))"
   ]
  },
  {
   "cell_type": "code",
   "execution_count": 208,
   "metadata": {},
   "outputs": [],
   "source": [
    "res = ''\n",
    "for i in out:\n",
    "    res += num2pattern(i,k)+' '"
   ]
  },
  {
   "cell_type": "code",
   "execution_count": 209,
   "metadata": {},
   "outputs": [
    {
     "data": {
      "text/plain": [
       "'TGGTGGCTTCCA '"
      ]
     },
     "execution_count": 209,
     "metadata": {},
     "output_type": "execute_result"
    }
   ],
   "source": [
    "res"
   ]
  },
  {
   "cell_type": "code",
   "execution_count": 210,
   "metadata": {},
   "outputs": [],
   "source": [
    "with open('/Users/gaopeng/Downloads/output1.txt','w') as f:\n",
    "    f.write(res.strip())"
   ]
  },
  {
   "cell_type": "code",
   "execution_count": 211,
   "metadata": {},
   "outputs": [],
   "source": [
    "info = []\n",
    "with open('/Users/gaopeng/Downloads/E_coli.txt') as f:\n",
    "    gene = f.read().strip()"
   ]
  },
  {
   "cell_type": "code",
   "execution_count": 212,
   "metadata": {},
   "outputs": [],
   "source": [
    "k = 9\n",
    "L = 500\n",
    "t = 3"
   ]
  },
  {
   "cell_type": "code",
   "execution_count": 213,
   "metadata": {},
   "outputs": [],
   "source": [
    "output = clumpfind(gene,k,L,t)"
   ]
  },
  {
   "cell_type": "code",
   "execution_count": 214,
   "metadata": {},
   "outputs": [],
   "source": [
    "out = list(set(output))"
   ]
  },
  {
   "cell_type": "code",
   "execution_count": 215,
   "metadata": {},
   "outputs": [
    {
     "data": {
      "text/plain": [
       "1904"
      ]
     },
     "execution_count": 215,
     "metadata": {},
     "output_type": "execute_result"
    }
   ],
   "source": [
    "len(out)"
   ]
  },
  {
   "cell_type": "code",
   "execution_count": null,
   "metadata": {},
   "outputs": [],
   "source": []
  }
 ],
 "metadata": {
  "kernelspec": {
   "display_name": "Python 3",
   "language": "python",
   "name": "python3"
  },
  "language_info": {
   "codemirror_mode": {
    "name": "ipython",
    "version": 3
   },
   "file_extension": ".py",
   "mimetype": "text/x-python",
   "name": "python",
   "nbconvert_exporter": "python",
   "pygments_lexer": "ipython3",
   "version": "3.6.2"
  }
 },
 "nbformat": 4,
 "nbformat_minor": 2
}
