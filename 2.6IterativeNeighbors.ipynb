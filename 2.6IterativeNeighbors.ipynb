{
 "cells": [
  {
   "cell_type": "code",
   "execution_count": 21,
   "metadata": {},
   "outputs": [],
   "source": [
    "import time"
   ]
  },
  {
   "cell_type": "code",
   "execution_count": 1,
   "metadata": {},
   "outputs": [],
   "source": [
    "def ImmediateNeighbors(Pattern):\n",
    "    Neighborhood = [Pattern]\n",
    "    for i in range(len(Pattern)):\n",
    "        for x in ['A','C','G','T'] :\n",
    "            if x != Pattern[i]:\n",
    "                newPattern = list(Pattern)\n",
    "                newPattern[i] = x\n",
    "                Neighborhood.append(''.join(newPattern))\n",
    "    return Neighborhood"
   ]
  },
  {
   "cell_type": "code",
   "execution_count": 34,
   "metadata": {},
   "outputs": [],
   "source": [
    "def IterativeNeighbors(Pattern, d):\n",
    "    Neighborhood = [Pattern]\n",
    "    result = []\n",
    "    for i in range(d):\n",
    "        for Text in Neighborhood:\n",
    "            result += ImmediateNeighbors(Text)\n",
    "        Neighborhood += result #Neighborhood+=不能写到循环里面\n",
    "    return list(set(Neighborhood))"
   ]
  },
  {
   "cell_type": "code",
   "execution_count": 41,
   "metadata": {
    "scrolled": true
   },
   "outputs": [
    {
     "name": "stdout",
     "output_type": "stream",
     "text": [
      "12826\n",
      "run time is: 0.526767\n"
     ]
    }
   ],
   "source": [
    "start = time.clock()\n",
    "result = IterativeNeighbors('GCATCACTC', 4)\n",
    "print(len(result))\n",
    "end = time.clock()\n",
    "print(\"run time is: %f\" % (end - start))"
   ]
  }
 ],
 "metadata": {
  "kernelspec": {
   "display_name": "Python 3",
   "language": "python",
   "name": "python3"
  },
  "language_info": {
   "codemirror_mode": {
    "name": "ipython",
    "version": 3
   },
   "file_extension": ".py",
   "mimetype": "text/x-python",
   "name": "python",
   "nbconvert_exporter": "python",
   "pygments_lexer": "ipython3",
   "version": "3.6.2"
  }
 },
 "nbformat": 4,
 "nbformat_minor": 2
}
