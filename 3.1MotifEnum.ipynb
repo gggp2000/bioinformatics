{
 "cells": [
  {
   "cell_type": "code",
   "execution_count": 1,
   "metadata": {},
   "outputs": [],
   "source": [
    "info = []\n",
    "with open('/Users/gaopeng/Downloads/dataset_156_8.txt') as f:\n",
    "    for line in f.readlines():\n",
    "        info.append(line.strip())"
   ]
  },
  {
   "cell_type": "code",
   "execution_count": 10,
   "metadata": {},
   "outputs": [],
   "source": [
    "def Hamdist(p,q):\n",
    "    if len(p) != len(q):\n",
    "        return -1\n",
    "    k = 0\n",
    "    for i in range(len(p)):\n",
    "        if p[i] != q[i]:\n",
    "            k += 1\n",
    "    return k"
   ]
  },
  {
   "cell_type": "code",
   "execution_count": 8,
   "metadata": {},
   "outputs": [],
   "source": [
    "def countAPM(Genome,Pattern,d):\n",
    "    count = [0 for x in range(len(Genome))]\n",
    "    k = len(Pattern)\n",
    "    for i in range(len(Genome)):  #range(1,len(Genome)) is better\n",
    "        for j in range(len(Genome[i])-k+1):\n",
    "            if Hamdist(Genome[i][j:j+k],Pattern) <=d:\n",
    "                count[i] += 1\n",
    "    return count"
   ]
  },
  {
   "cell_type": "code",
   "execution_count": 9,
   "metadata": {},
   "outputs": [],
   "source": [
    "def Neighbors(pattern,d):\n",
    "    if d == 0:\n",
    "        return pattern\n",
    "    if len(pattern) == 1:\n",
    "        return ['A','C','G','T']\n",
    "    neighborhood = []\n",
    "    suffixN = Neighbors(pattern[1:],d)\n",
    "    for text in suffixN:\n",
    "        if Hamdist(text,pattern[1:]) < d:\n",
    "            for prefix in ['A','C','G','T']:\n",
    "                neighborhood.append(prefix+text)\n",
    "        elif Hamdist(text,pattern[1:]) == d:\n",
    "            neighborhood.append(pattern[0]+text)\n",
    "    return neighborhood"
   ]
  },
  {
   "cell_type": "code",
   "execution_count": 2,
   "metadata": {},
   "outputs": [],
   "source": [
    "pattern = info[0]\n",
    "d = int(info[1])"
   ]
  },
  {
   "cell_type": "code",
   "execution_count": 58,
   "metadata": {},
   "outputs": [],
   "source": [
    "k=3\n",
    "d=1\n",
    "Genome = ['ATTTGGC','TGCCTTA','CGGTATC','GAAAATT']"
   ]
  },
  {
   "cell_type": "code",
   "execution_count": 7,
   "metadata": {},
   "outputs": [],
   "source": [
    "k=5\n",
    "d=1\n",
    "Genome = ['TCGCCCGGCGTGTAGGACGGCCGTG','TTACCTTGGGCCCGTTCGTGCAACA','TGGCCACGTGCATGGATTGGCACGT','CCAGTGAGTAATCCTATGATACGTG','GGGCATAACGGGATGTCGTGTACGA','CGGTTCCCTGACGTGGATGAAGTAC']"
   ]
  },
  {
   "cell_type": "code",
   "execution_count": 17,
   "metadata": {},
   "outputs": [],
   "source": [
    "def MotifEnumeration(Genome, k, d):\n",
    "    Neighborhood = []\n",
    "    for i in range(len(Genome[0])-k+1):\n",
    "        Neighborhood += Neighbors(Genome[0][i:i+k],d)\n",
    "    Neighborhood = list(set(Neighborhood))\n",
    "    Pattern = []\n",
    "    for text in Neighborhood:\n",
    "        if min(countAPM(Genome,text,d)) >0:\n",
    "            Pattern.append(text)\n",
    "    return Pattern"
   ]
  },
  {
   "cell_type": "code",
   "execution_count": 60,
   "metadata": {},
   "outputs": [
    {
     "data": {
      "text/plain": [
       "['GTT', 'ATA', 'ATT', 'TTT']"
      ]
     },
     "execution_count": 60,
     "metadata": {},
     "output_type": "execute_result"
    }
   ],
   "source": [
    "MotifEnumeration(Genome,k,d)"
   ]
  },
  {
   "cell_type": "code",
   "execution_count": null,
   "metadata": {},
   "outputs": [],
   "source": []
  }
 ],
 "metadata": {
  "kernelspec": {
   "display_name": "Python 3",
   "language": "python",
   "name": "python3"
  },
  "language_info": {
   "codemirror_mode": {
    "name": "ipython",
    "version": 3
   },
   "file_extension": ".py",
   "mimetype": "text/x-python",
   "name": "python",
   "nbconvert_exporter": "python",
   "pygments_lexer": "ipython3",
   "version": "3.6.2"
  }
 },
 "nbformat": 4,
 "nbformat_minor": 2
}
