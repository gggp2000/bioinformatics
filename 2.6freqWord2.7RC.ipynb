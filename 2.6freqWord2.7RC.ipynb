{
 "cells": [
  {
   "cell_type": "code",
   "execution_count": 48,
   "metadata": {},
   "outputs": [],
   "source": [
    "info = []\n",
    "with open('/Users/gaopeng/Downloads/dataset_9_7.txt') as f:\n",
    "    for line in f.readlines():\n",
    "        info.append(line.strip())\n",
    "gene = info[0]\n",
    "k = int(info[1][0])\n",
    "d = int(info[1][2])"
   ]
  },
  {
   "cell_type": "code",
   "execution_count": 49,
   "metadata": {},
   "outputs": [
    {
     "data": {
      "text/plain": [
       "384"
      ]
     },
     "execution_count": 49,
     "metadata": {},
     "output_type": "execute_result"
    }
   ],
   "source": []
  },
  {
   "cell_type": "code",
   "execution_count": 50,
   "metadata": {},
   "outputs": [],
   "source": [
    "fdict = {}\n",
    "for i in range(len(gene)-k+1):\n",
    "    for text in Neighbors(gene[i:i+k],d):\n",
    "        if not text in fdict.keys():\n",
    "            fdict.update({text:1})\n",
    "        else:\n",
    "            fdict[text] += 1"
   ]
  },
  {
   "cell_type": "code",
   "execution_count": 51,
   "metadata": {},
   "outputs": [
    {
     "data": {
      "text/plain": [
       "3377"
      ]
     },
     "execution_count": 51,
     "metadata": {},
     "output_type": "execute_result"
    }
   ],
   "source": [
    "len(fdict.keys())"
   ]
  },
  {
   "cell_type": "code",
   "execution_count": 52,
   "metadata": {},
   "outputs": [],
   "source": [
    "key = list(fdict.keys())\n",
    "count = list(fdict.values())"
   ]
  },
  {
   "cell_type": "code",
   "execution_count": 30,
   "metadata": {},
   "outputs": [],
   "source": [
    "freqwords = []\n",
    "for i in range(len(key)):\n",
    "    if count[i] == max(count):\n",
    "        freqwords.append(key[i])"
   ]
  },
  {
   "cell_type": "code",
   "execution_count": 39,
   "metadata": {},
   "outputs": [],
   "source": [
    "i = 0\n",
    "freqwords = []\n",
    "while max(count) in count[i:]:\n",
    "    a = count[i:].index(max(count))\n",
    "    freqwords.append(key[a])\n",
    "    i += a+1"
   ]
  },
  {
   "cell_type": "code",
   "execution_count": 44,
   "metadata": {},
   "outputs": [],
   "source": [
    "def findargmax(l):\n",
    "    i = 0\n",
    "    amax = []\n",
    "    while max(l) in l[i:]:\n",
    "        a = l[i:].index(max(l))\n",
    "        amax.append(a)\n",
    "        i += a+1    \n",
    "    return amax"
   ]
  },
  {
   "cell_type": "code",
   "execution_count": 53,
   "metadata": {},
   "outputs": [],
   "source": [
    "output = ''\n",
    "for i in findargmax(count):\n",
    "    output += key[i]+' '"
   ]
  },
  {
   "cell_type": "code",
   "execution_count": 54,
   "metadata": {},
   "outputs": [],
   "source": [
    "with open('/Users/gaopeng/Downloads/output97.txt','w') as f:\n",
    "    f.write(output.strip())"
   ]
  },
  {
   "cell_type": "code",
   "execution_count": 31,
   "metadata": {
    "scrolled": true
   },
   "outputs": [
    {
     "data": {
      "text/plain": [
       "['TCATCAT']"
      ]
     },
     "execution_count": 31,
     "metadata": {},
     "output_type": "execute_result"
    }
   ],
   "source": [
    "freqwords"
   ]
  },
  {
   "cell_type": "code",
   "execution_count": 9,
   "metadata": {},
   "outputs": [],
   "source": [
    "def Hamdist(p,q):\n",
    "    if len(p) != len(q):\n",
    "        return -1\n",
    "    k = 0\n",
    "    for i in range(len(p)):\n",
    "        if p[i] != q[i]:\n",
    "            k += 1\n",
    "    return k"
   ]
  },
  {
   "cell_type": "code",
   "execution_count": 10,
   "metadata": {},
   "outputs": [],
   "source": [
    "def Neighbors(pattern,d):\n",
    "    if d == 0:\n",
    "        return pattern\n",
    "    if len(pattern) == 1:\n",
    "        return ['A','C','G','T']\n",
    "    neighborhood = []\n",
    "    suffixN = Neighbors(pattern[1:],d)\n",
    "    for text in suffixN:\n",
    "        if Hamdist(text,pattern[1:]) < d:\n",
    "            for prefix in ['A','C','G','T']:\n",
    "                neighborhood.append(prefix+text)\n",
    "        elif Hamdist(text,pattern[1:]) == d:\n",
    "            neighborhood.append(pattern[0]+text)\n",
    "    return neighborhood"
   ]
  },
  {
   "cell_type": "code",
   "execution_count": 11,
   "metadata": {},
   "outputs": [],
   "source": [
    "def pattern2num(pattern):\n",
    "    symbol = ['A','C','G','T']\n",
    "    if not pattern[-1] in symbol:\n",
    "        return 0\n",
    "    symnum = symbol.index(pattern[-1])\n",
    "    if len(pattern) > 1 :\n",
    "        prefix = pattern[:-1]\n",
    "    else:\n",
    "        prefix = 'N' #set a stop sign\n",
    "    return symnum + pattern2num(prefix)*4"
   ]
  },
  {
   "cell_type": "code",
   "execution_count": 12,
   "metadata": {},
   "outputs": [],
   "source": [
    "def num2pattern(number,k):\n",
    "    symbol = ['A','C','G','T']\n",
    "    if k == 1: \n",
    "        return symbol[number]\n",
    "    sym = symbol[int(number/4**(k-1))]\n",
    "    reminder = number % 4**(k-1)\n",
    "    return sym + num2pattern(reminder,k-1)"
   ]
  },
  {
   "cell_type": "code",
   "execution_count": 127,
   "metadata": {},
   "outputs": [],
   "source": [
    "def mergedict(r,f):\n",
    "    for k,v in r.items():\n",
    "        if not reversefrag(k) in f.keys():\n",
    "            f.update({reversefrag(k):v})\n",
    "        else:\n",
    "            f[reversefrag(k)] += v\n",
    "    return f"
   ]
  },
  {
   "cell_type": "code",
   "execution_count": 84,
   "metadata": {},
   "outputs": [],
   "source": [
    "def reversefrag(seq):\n",
    "    newseq = ''\n",
    "    for i in range(len(seq)):\n",
    "        if seq[i] == 'A':\n",
    "            newseq += 'T'\n",
    "        elif seq[i] == 'T':\n",
    "            newseq += 'A'\n",
    "        elif seq[i] == 'G':\n",
    "            newseq += 'C'\n",
    "        elif seq[i] == \"C\":\n",
    "            newseq += 'G'\n",
    "    return newseq[::-1]"
   ]
  },
  {
   "cell_type": "code",
   "execution_count": 142,
   "metadata": {},
   "outputs": [],
   "source": [
    "info = []\n",
    "with open('/Users/gaopeng/Downloads/dataset_9_8.txt') as f:\n",
    "    for line in f.readlines():\n",
    "        info.append(line.strip())\n",
    "gene = info[0]\n",
    "k = int(info[1][0])\n",
    "d = int(info[1][2])"
   ]
  },
  {
   "cell_type": "code",
   "execution_count": 132,
   "metadata": {},
   "outputs": [],
   "source": [
    "gene = 'ACGTTGCATGTCGCATGATGCATGAGAGCT'\n",
    "k = 4\n",
    "d = 1"
   ]
  },
  {
   "cell_type": "code",
   "execution_count": 133,
   "metadata": {},
   "outputs": [],
   "source": [
    "fdict = {}\n",
    "for i in range(len(gene)-k+1):\n",
    "    for text in Neighbors(gene[i:i+k],d):\n",
    "        if not text in fdict.keys():\n",
    "            fdict.update({text:1})\n",
    "        else: fdict[text] += 1\n",
    "\n",
    "revdict = {} \n",
    "for i in range(len(gene)-k+1):            \n",
    "    for text in Neighbors(reversefrag(gene[i:i+k]),d):\n",
    "        if not text in revdict.keys():\n",
    "            revdict.update({text:1})\n",
    "        else: revdict[text] += 1\n",
    "\n",
    "newdict = mergedict(revdict,fdict)"
   ]
  },
  {
   "cell_type": "code",
   "execution_count": 143,
   "metadata": {},
   "outputs": [],
   "source": [
    "fdict = {}\n",
    "for i in range(len(gene)-k+1):\n",
    "    for text in Neighbors(gene[i:i+k],d):\n",
    "        if not text in fdict.keys():\n",
    "            fdict.update({text:1})\n",
    "        else: fdict[text] += 1         \n",
    "    for text in Neighbors(reversefrag(gene[i:i+k]),d):\n",
    "        if not text in fdict.keys():\n",
    "            fdict.update({text:1})\n",
    "        else: fdict[text] += 1\n",
    "newdict = fdict\n",
    "#newdict = mergedict(revdict,fdict)"
   ]
  },
  {
   "cell_type": "code",
   "execution_count": 144,
   "metadata": {},
   "outputs": [],
   "source": [
    "key = list(newdict.keys())\n",
    "count = list(newdict.values())"
   ]
  },
  {
   "cell_type": "code",
   "execution_count": 145,
   "metadata": {},
   "outputs": [
    {
     "data": {
      "text/plain": [
       "117"
      ]
     },
     "execution_count": 145,
     "metadata": {},
     "output_type": "execute_result"
    }
   ],
   "source": [
    "max(count)"
   ]
  },
  {
   "cell_type": "code",
   "execution_count": 146,
   "metadata": {},
   "outputs": [],
   "source": [
    "i = 0\n",
    "freqwords = []\n",
    "while max(count) in count[i:]:\n",
    "    a = count[i:].index(max(count))\n",
    "    freqwords.append(key[a])\n",
    "    i += a+1"
   ]
  },
  {
   "cell_type": "code",
   "execution_count": 147,
   "metadata": {},
   "outputs": [
    {
     "data": {
      "text/plain": [
       "['CGTCGG', 'TACGTG', 'GGGAGT', 'AAAGGA']"
      ]
     },
     "execution_count": 147,
     "metadata": {},
     "output_type": "execute_result"
    }
   ],
   "source": [
    "freqwords"
   ]
  },
  {
   "cell_type": "code",
   "execution_count": 148,
   "metadata": {},
   "outputs": [],
   "source": [
    "output = ''\n",
    "for i in findargmax(count):\n",
    "    output += key[i]+' '\n",
    "with open('/Users/gaopeng/Downloads/output98.txt','w') as f:\n",
    "    f.write(output.strip())"
   ]
  },
  {
   "cell_type": "code",
   "execution_count": 150,
   "metadata": {},
   "outputs": [
    {
     "name": "stdout",
     "output_type": "stream",
     "text": [
      "AGTGGCGATGGCGAATTATTAGCGAAGATTTGGATTAGAGATTCGATGGTGGATTATTATTTGGTGGAGAGAGATTTGGAGTGGATTTGGATTCGATGGTGGTGGCGAAGTGGAGCGATGGATTATTATTTGGATTATTTGGTGGAGCGAATTAGATTCGACGAAGATTAGCGATGGATTAGAGATTAGTGGAGTGGAGATTTGGAGAGATTATTCGAAGTGGAGAGAGATTAG\n",
      "5 2\n",
      "ATTGA TCAAT "
     ]
    }
   ],
   "source": [
    "def hanming(a, b):\n",
    "    ham = 0\n",
    "    for i in range(len(a)):\n",
    "        if a[i] != b[i]:\n",
    "            ham += 1\n",
    "    return ham\n",
    "def kmer(s,k):\n",
    "    mer={}\n",
    "    for i in range(len(s)-k+1):\n",
    "        if s[i:i+k] not in mer.keys():\n",
    "            mer[s[i:i+k]]=1\n",
    "        else:\n",
    "            mer[s[i:i+k]]+=1\n",
    "    return mer\n",
    "def reverse(ds):\n",
    "    ds1=''\n",
    "    for i in ds:\n",
    "        if i=='A':\n",
    "            ds1+='T'\n",
    "        elif i=='C':\n",
    "            ds1+='G'\n",
    "        elif i=='G':\n",
    "            ds1+='C'\n",
    "        else:\n",
    "            ds1+='A'\n",
    "    return ds1[::-1]\n",
    "import itertools\n",
    "dna = input()\n",
    "k_h = list(map(int,input().split()))\n",
    "k=k_h[0]\n",
    "h=k_h[1]\n",
    "result={}\n",
    "dnas = [''.join(x) for x in itertools.product('ACGT', repeat=k)] #使用itertools迭代器产生所有kmer\n",
    "for km in dnas:\n",
    "    result[km]=0\n",
    "    for key in kmer(dna,k).keys():\n",
    "        r_km=reverse(km)\n",
    "        if hanming(km,key)<=h:\n",
    "            result[km]+=kmer(dna,k)[key]\n",
    "        if hanming(r_km, key) <= h: #判断其反转是否也符号要求，如果是，就加上的value\n",
    "            result[km]+=kmer(dna,k)[key]\n",
    "max_=max(result.values())\n",
    "for key,value in result.items():\n",
    "    if result[key]==max_:\n",
    "        print(key,end=\" \")"
   ]
  },
  {
   "cell_type": "code",
   "execution_count": null,
   "metadata": {},
   "outputs": [],
   "source": []
  }
 ],
 "metadata": {
  "kernelspec": {
   "display_name": "Python 3",
   "language": "python",
   "name": "python3"
  },
  "language_info": {
   "codemirror_mode": {
    "name": "ipython",
    "version": 3
   },
   "file_extension": ".py",
   "mimetype": "text/x-python",
   "name": "python",
   "nbconvert_exporter": "python",
   "pygments_lexer": "ipython3",
   "version": "3.6.2"
  }
 },
 "nbformat": 4,
 "nbformat_minor": 2
}
