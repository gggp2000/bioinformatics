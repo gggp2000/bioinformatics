{
 "cells": [
  {
   "cell_type": "code",
   "execution_count": 7,
   "metadata": {
    "collapsed": true
   },
   "outputs": [],
   "source": [
    "import numpy as np"
   ]
  },
  {
   "cell_type": "code",
   "execution_count": 120,
   "metadata": {
    "collapsed": true
   },
   "outputs": [],
   "source": [
    "info = []\n",
    "with open('/Users/igao/Documents/bioinformatics/data/dataset_159_3.txt') as f:\n",
    "    for line in f.readlines():\n",
    "        info.append(line.strip())\n",
    "Genome = info[0]\n",
    "k = int(info[1])\n",
    "column = len(info[2:])"
   ]
  },
  {
   "cell_type": "code",
   "execution_count": 124,
   "metadata": {
    "scrolled": true
   },
   "outputs": [],
   "source": [
    "ProfileMotif = []\n",
    "for i in range(2,len(info)):\n",
    "    ProfileMotif += info[i].split()\n",
    "ProfileMotif = np.array(ProfileMotif)\n",
    "ProfileMotif = ProfileMotif.reshape(column,-1)"
   ]
  },
  {
   "cell_type": "code",
   "execution_count": 101,
   "metadata": {
    "collapsed": true
   },
   "outputs": [],
   "source": [
    "def Pr(Pattern, motif):\n",
    "    Symbol = ['A','C','G','T']\n",
    "    probability = 1.0\n",
    "    for i in range(len(Pattern)):\n",
    "        probability *= float(motif[:,i][Symbol.index(Pattern[i])])\n",
    "    return probability"
   ]
  },
  {
   "cell_type": "code",
   "execution_count": 75,
   "metadata": {
    "collapsed": true
   },
   "outputs": [],
   "source": [
    "def MaximumFinding(skew):\n",
    "    i = 0\n",
    "    index = []\n",
    "    while max(skew) in skew[i:]:\n",
    "        j = skew[i:].index(max(skew))\n",
    "        i += j+1\n",
    "        index.append(i-1)\n",
    "    return index"
   ]
  },
  {
   "cell_type": "code",
   "execution_count": 76,
   "metadata": {
    "collapsed": true
   },
   "outputs": [],
   "source": [
    "def ProfileMostProbablekmer(Genome, k, ProfileMotif):\n",
    "    probable = []\n",
    "    Pattern = []\n",
    "    for i in range(len(Genome)-k+1):\n",
    "        probable.append(Pr(Genome[i:i+k],ProfileMotif))\n",
    "    index = MaximumFinding(probable)\n",
    "    for j in index:\n",
    "        Pattern.append(Genome[j:j+k])\n",
    "    return Pattern"
   ]
  },
  {
   "cell_type": "code",
   "execution_count": 123,
   "metadata": {
    "scrolled": false
   },
   "outputs": [
    {
     "data": {
      "text/plain": [
       "['CAGATAACCTTC']"
      ]
     },
     "execution_count": 123,
     "metadata": {},
     "output_type": "execute_result"
    }
   ],
   "source": [
    "ProfileMostProbablekmer(Genome, k, ProfileMotif)"
   ]
  }
 ],
 "metadata": {
  "kernelspec": {
   "display_name": "Python 3",
   "language": "python",
   "name": "python3"
  },
  "language_info": {
   "codemirror_mode": {
    "name": "ipython",
    "version": 3
   },
   "file_extension": ".py",
   "mimetype": "text/x-python",
   "name": "python",
   "nbconvert_exporter": "python",
   "pygments_lexer": "ipython3",
   "version": "3.6.2"
  }
 },
 "nbformat": 4,
 "nbformat_minor": 2
}
